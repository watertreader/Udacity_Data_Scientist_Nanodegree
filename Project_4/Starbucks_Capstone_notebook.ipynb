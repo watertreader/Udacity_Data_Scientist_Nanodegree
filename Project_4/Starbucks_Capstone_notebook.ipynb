{
 "cells": [
  {
   "cell_type": "markdown",
   "metadata": {},
   "source": [
    "# Starbucks Capstone Challenge"
   ]
  },
  {
   "cell_type": "markdown",
   "metadata": {},
   "source": [
    "# Introduction\n",
    "\n",
    "\n",
    "For this project, we will have an opportunity to analyse Starbucks mobile app customer base data and their responses towards promotion offers. First we will explore, clean the data and then make exploratory analysis to find out customer based statistic. Subseqently, we aim to make on what the app should make recommendation offer to the new customer on the app with a machine learning model"
   ]
  },
  {
   "cell_type": "markdown",
   "metadata": {},
   "source": [
    "## About Starbucks and Mobile App Program\n",
    "\n",
    "### Starbuck\n",
    "Starbucks Corporation is an American multinational chain of coffeehouses and roastery reserves headquartered in Seattle, Washington since 1971[1]. It is currently the world's largest coffeehouse chain store, serving a variety of beverages from hot/cold coffee/tea to the In addition to drinks and food, many stores carry Starbucks' official merchandise, such as mugs, tumblers, scoops, and coffee presses. Not limited to store front sales, drinks (canned drink, expresso capsules) sporting Starbuck label has appeared in supermarket and online shops[2]\n",
    "\n",
    "### Mobile Application\n",
    "Starbucks is one of the early adopter of mobile application. In May 2008, a loyalty program was introduced for Starbucks Card registered users offering perks such as free Wi-Fi Internet access etc. 3 Years on, it began beta testing its mobile app for the Starbucks card, offering prepaid services. Subsequently, Starbucks released its complete mobile platform by January 2011. By December 2011, the number of mobile transactions exceeded 26 million. It is estimated that 30% of the Starbuck transactions is through mobile compared to Apple Pay, which is only used by ~5% of customers in 2018 [3]"
   ]
  },
  {
   "cell_type": "markdown",
   "metadata": {},
   "source": [
    "## Information on Data Set\n",
    "The provided data set for this project contains simulated data (containing transactions, customer spread and offer types) which mimics customer behavior on the Starbucks rewards mobile app. Once every few days, Starbucks sends out an offer to users of the mobile app. An offer can be merely an advertisement for a drink or an actual offer such as a discount or BOGO (buy one get one free). Some users might not receive any offer during certain weeks and not every user will have the same offer offered to the next\n",
    "\n",
    "#### Validity Period\n",
    "Every offer has a validity period before the offer expires. For example, a BOGO offer might be valid for only 5 days. The data set contains also informational offers which are merely providing information about a product. Accordingly, if an informational offer has 7 days of validity, one can assumed the customer is under the influence of the offer for 7 days after receiving the advertisement. It can be shown from the transactional data shows the timestamp of each purchase as well as the amount of money spent when user make purchases on the app. The transactional data also has a record for each offer that a user receives, a record for when a user actually views the offer and finally when a user completes an offer. \n",
    "\n",
    "Conversely, user should also note that it is possible that a customer using the app might make a purchase through the app without having received an offer or seen an offer.\n",
    "\n",
    "#### Rewards System\n",
    "To give an example how the reward process works, a user could receive a discount offer buy 10 dollars get 2 off. The offer is valid for 10 days from receipt. If the customer accumulates at least 10 dollars in purchases during the validity period, the customer completes the offer. \n",
    "\n",
    "It has also to be considered that a customer can receive an offer, never actually views the offer, and still completes the offer. For example, a customer might receive the \"buy 10 dollars get 2 dollars off offer\", but never opens the offer during the 10 day validity period, while he spends 15 dollars during those ten days. Thus there will be an offer completion record in the data set while the customer was not influenced by the offer.[2]"
   ]
  },
  {
   "cell_type": "markdown",
   "metadata": {},
   "source": [
    "## On Data Sets\n",
    "\n",
    "The data is contained in three files:\n",
    "\n",
    "* portfolio.json - containing offer ids and meta data about each offer (duration, type, etc.)\n",
    "* profile.json - demographic data for each customer\n",
    "* transcript.json - records for transactions, offers received, offers viewed, and offers completed\n",
    "\n",
    "**Note:** If you are using the workspace, you will need to go to the terminal and run the command `conda update pandas` before reading in the files. This is because the version of pandas in the workspace cannot read in the transcript.json file correctly, but the newest version of pandas can. You can access the termnal from the orange icon in the top left of this notebook.  \n",
    "\n",
    "You can see how to access the terminal and how the install works using the two images below.  First you need to access the terminal:\n",
    "\n",
    "<img src=\"pic1.png\"/>\n",
    "\n",
    "Then you will want to run the above command:\n",
    "\n",
    "<img src=\"pic2.png\"/>\n",
    "\n",
    "Finally, when you enter back into the notebook (use the jupyter icon again), you should be able to run the below cell without any errors."
   ]
  },
  {
   "cell_type": "markdown",
   "metadata": {},
   "source": [
    "# Part I : Define the business problem\n",
    "\n",
    "The first part of our studies is to define our business problem\n",
    "<ol>\n",
    "    <li> What is the age, gender and income demographics of the customer group? Who formed the majority of the Starbucks customer base ?</li>\n",
    "    <li> Which is the most effective channel in dispensing out information </li>\n",
    "    <li> Which group (age, income, membership length) of customers appear to be more responsive towards the promotion\n",
    "    <li> Is there link between the offer given and the target group? </li>\n",
    "    <li> Which type of promotional offer most appeal to which group of customer?</li>\n",
    "    <li>Can we build a recommendation engine to recommend promotional offer with good uptake rate to new customers based on their demographical data age, income, registration date and gender?</li>\n",
    "</ol>"
   ]
  },
  {
   "cell_type": "code",
   "execution_count": 1,
   "metadata": {},
   "outputs": [],
   "source": [
    "import pandas as pd\n",
    "import numpy as np\n",
    "import math\n",
    "import json\n",
    "import matplotlib.pyplot as plt\n",
    "\n",
    "%matplotlib inline\n",
    "\n",
    "# read in the json files\n",
    "portfolio   = pd.read_json('data/portfolio.json', orient='records', lines=True)\n",
    "profile     = pd.read_json('data/profile.json',   orient='records', lines=True)\n",
    "transcript  = pd.read_json('data/transcript.json', orient='records', lines=True)"
   ]
  },
  {
   "cell_type": "code",
   "execution_count": 2,
   "metadata": {},
   "outputs": [],
   "source": [
    "## update the pandas package as suggested above\n",
    "\n",
    "# if (float(pd.__version__) > 1.53):\n",
    "#     print('version is greater')\n",
    "# !conda update pandas"
   ]
  },
  {
   "cell_type": "markdown",
   "metadata": {},
   "source": [
    "# Part II : Analyze\n",
    "\n",
    "\n",
    "We will analyze the problem(with the 3 pandas DataFrame) through visualizations and data exploration to have a better understanding of what algorithms and features are appropriate for solving it."
   ]
  },
  {
   "cell_type": "markdown",
   "metadata": {},
   "source": [
    "### Portfolio"
   ]
  },
  {
   "cell_type": "code",
   "execution_count": 3,
   "metadata": {
    "scrolled": true
   },
   "outputs": [
    {
     "data": {
      "text/html": [
       "<div>\n",
       "<style scoped>\n",
       "    .dataframe tbody tr th:only-of-type {\n",
       "        vertical-align: middle;\n",
       "    }\n",
       "\n",
       "    .dataframe tbody tr th {\n",
       "        vertical-align: top;\n",
       "    }\n",
       "\n",
       "    .dataframe thead th {\n",
       "        text-align: right;\n",
       "    }\n",
       "</style>\n",
       "<table border=\"1\" class=\"dataframe\">\n",
       "  <thead>\n",
       "    <tr style=\"text-align: right;\">\n",
       "      <th></th>\n",
       "      <th>reward</th>\n",
       "      <th>channels</th>\n",
       "      <th>difficulty</th>\n",
       "      <th>duration</th>\n",
       "      <th>offer_type</th>\n",
       "      <th>id</th>\n",
       "    </tr>\n",
       "  </thead>\n",
       "  <tbody>\n",
       "    <tr>\n",
       "      <th>0</th>\n",
       "      <td>10</td>\n",
       "      <td>[email, mobile, social]</td>\n",
       "      <td>10</td>\n",
       "      <td>7</td>\n",
       "      <td>bogo</td>\n",
       "      <td>ae264e3637204a6fb9bb56bc8210ddfd</td>\n",
       "    </tr>\n",
       "    <tr>\n",
       "      <th>1</th>\n",
       "      <td>10</td>\n",
       "      <td>[web, email, mobile, social]</td>\n",
       "      <td>10</td>\n",
       "      <td>5</td>\n",
       "      <td>bogo</td>\n",
       "      <td>4d5c57ea9a6940dd891ad53e9dbe8da0</td>\n",
       "    </tr>\n",
       "    <tr>\n",
       "      <th>2</th>\n",
       "      <td>0</td>\n",
       "      <td>[web, email, mobile]</td>\n",
       "      <td>0</td>\n",
       "      <td>4</td>\n",
       "      <td>informational</td>\n",
       "      <td>3f207df678b143eea3cee63160fa8bed</td>\n",
       "    </tr>\n",
       "    <tr>\n",
       "      <th>3</th>\n",
       "      <td>5</td>\n",
       "      <td>[web, email, mobile]</td>\n",
       "      <td>5</td>\n",
       "      <td>7</td>\n",
       "      <td>bogo</td>\n",
       "      <td>9b98b8c7a33c4b65b9aebfe6a799e6d9</td>\n",
       "    </tr>\n",
       "    <tr>\n",
       "      <th>4</th>\n",
       "      <td>5</td>\n",
       "      <td>[web, email]</td>\n",
       "      <td>20</td>\n",
       "      <td>10</td>\n",
       "      <td>discount</td>\n",
       "      <td>0b1e1539f2cc45b7b9fa7c272da2e1d7</td>\n",
       "    </tr>\n",
       "  </tbody>\n",
       "</table>\n",
       "</div>"
      ],
      "text/plain": [
       "   reward                      channels  difficulty  duration     offer_type  \\\n",
       "0      10       [email, mobile, social]          10         7           bogo   \n",
       "1      10  [web, email, mobile, social]          10         5           bogo   \n",
       "2       0          [web, email, mobile]           0         4  informational   \n",
       "3       5          [web, email, mobile]           5         7           bogo   \n",
       "4       5                  [web, email]          20        10       discount   \n",
       "\n",
       "                                 id  \n",
       "0  ae264e3637204a6fb9bb56bc8210ddfd  \n",
       "1  4d5c57ea9a6940dd891ad53e9dbe8da0  \n",
       "2  3f207df678b143eea3cee63160fa8bed  \n",
       "3  9b98b8c7a33c4b65b9aebfe6a799e6d9  \n",
       "4  0b1e1539f2cc45b7b9fa7c272da2e1d7  "
      ]
     },
     "execution_count": 3,
     "metadata": {},
     "output_type": "execute_result"
    }
   ],
   "source": [
    "portfolio.head()"
   ]
  },
  {
   "cell_type": "code",
   "execution_count": 4,
   "metadata": {},
   "outputs": [
    {
     "data": {
      "text/html": [
       "<div>\n",
       "<style scoped>\n",
       "    .dataframe tbody tr th:only-of-type {\n",
       "        vertical-align: middle;\n",
       "    }\n",
       "\n",
       "    .dataframe tbody tr th {\n",
       "        vertical-align: top;\n",
       "    }\n",
       "\n",
       "    .dataframe thead th {\n",
       "        text-align: right;\n",
       "    }\n",
       "</style>\n",
       "<table border=\"1\" class=\"dataframe\">\n",
       "  <thead>\n",
       "    <tr style=\"text-align: right;\">\n",
       "      <th></th>\n",
       "      <th>reward</th>\n",
       "      <th>channels</th>\n",
       "      <th>difficulty</th>\n",
       "      <th>duration</th>\n",
       "      <th>offer_type</th>\n",
       "      <th>id</th>\n",
       "    </tr>\n",
       "  </thead>\n",
       "  <tbody>\n",
       "    <tr>\n",
       "      <th>count</th>\n",
       "      <td>10.000000</td>\n",
       "      <td>10</td>\n",
       "      <td>10.000000</td>\n",
       "      <td>10.000000</td>\n",
       "      <td>10</td>\n",
       "      <td>10</td>\n",
       "    </tr>\n",
       "    <tr>\n",
       "      <th>unique</th>\n",
       "      <td>NaN</td>\n",
       "      <td>4</td>\n",
       "      <td>NaN</td>\n",
       "      <td>NaN</td>\n",
       "      <td>3</td>\n",
       "      <td>10</td>\n",
       "    </tr>\n",
       "    <tr>\n",
       "      <th>top</th>\n",
       "      <td>NaN</td>\n",
       "      <td>[web, email, mobile, social]</td>\n",
       "      <td>NaN</td>\n",
       "      <td>NaN</td>\n",
       "      <td>bogo</td>\n",
       "      <td>ae264e3637204a6fb9bb56bc8210ddfd</td>\n",
       "    </tr>\n",
       "    <tr>\n",
       "      <th>freq</th>\n",
       "      <td>NaN</td>\n",
       "      <td>4</td>\n",
       "      <td>NaN</td>\n",
       "      <td>NaN</td>\n",
       "      <td>4</td>\n",
       "      <td>1</td>\n",
       "    </tr>\n",
       "    <tr>\n",
       "      <th>mean</th>\n",
       "      <td>4.200000</td>\n",
       "      <td>NaN</td>\n",
       "      <td>7.700000</td>\n",
       "      <td>6.500000</td>\n",
       "      <td>NaN</td>\n",
       "      <td>NaN</td>\n",
       "    </tr>\n",
       "    <tr>\n",
       "      <th>std</th>\n",
       "      <td>3.583915</td>\n",
       "      <td>NaN</td>\n",
       "      <td>5.831905</td>\n",
       "      <td>2.321398</td>\n",
       "      <td>NaN</td>\n",
       "      <td>NaN</td>\n",
       "    </tr>\n",
       "    <tr>\n",
       "      <th>min</th>\n",
       "      <td>0.000000</td>\n",
       "      <td>NaN</td>\n",
       "      <td>0.000000</td>\n",
       "      <td>3.000000</td>\n",
       "      <td>NaN</td>\n",
       "      <td>NaN</td>\n",
       "    </tr>\n",
       "    <tr>\n",
       "      <th>25%</th>\n",
       "      <td>2.000000</td>\n",
       "      <td>NaN</td>\n",
       "      <td>5.000000</td>\n",
       "      <td>5.000000</td>\n",
       "      <td>NaN</td>\n",
       "      <td>NaN</td>\n",
       "    </tr>\n",
       "    <tr>\n",
       "      <th>50%</th>\n",
       "      <td>4.000000</td>\n",
       "      <td>NaN</td>\n",
       "      <td>8.500000</td>\n",
       "      <td>7.000000</td>\n",
       "      <td>NaN</td>\n",
       "      <td>NaN</td>\n",
       "    </tr>\n",
       "    <tr>\n",
       "      <th>75%</th>\n",
       "      <td>5.000000</td>\n",
       "      <td>NaN</td>\n",
       "      <td>10.000000</td>\n",
       "      <td>7.000000</td>\n",
       "      <td>NaN</td>\n",
       "      <td>NaN</td>\n",
       "    </tr>\n",
       "    <tr>\n",
       "      <th>max</th>\n",
       "      <td>10.000000</td>\n",
       "      <td>NaN</td>\n",
       "      <td>20.000000</td>\n",
       "      <td>10.000000</td>\n",
       "      <td>NaN</td>\n",
       "      <td>NaN</td>\n",
       "    </tr>\n",
       "  </tbody>\n",
       "</table>\n",
       "</div>"
      ],
      "text/plain": [
       "           reward                      channels  difficulty   duration  \\\n",
       "count   10.000000                            10   10.000000  10.000000   \n",
       "unique        NaN                             4         NaN        NaN   \n",
       "top           NaN  [web, email, mobile, social]         NaN        NaN   \n",
       "freq          NaN                             4         NaN        NaN   \n",
       "mean     4.200000                           NaN    7.700000   6.500000   \n",
       "std      3.583915                           NaN    5.831905   2.321398   \n",
       "min      0.000000                           NaN    0.000000   3.000000   \n",
       "25%      2.000000                           NaN    5.000000   5.000000   \n",
       "50%      4.000000                           NaN    8.500000   7.000000   \n",
       "75%      5.000000                           NaN   10.000000   7.000000   \n",
       "max     10.000000                           NaN   20.000000  10.000000   \n",
       "\n",
       "       offer_type                                id  \n",
       "count          10                                10  \n",
       "unique          3                                10  \n",
       "top          bogo  ae264e3637204a6fb9bb56bc8210ddfd  \n",
       "freq            4                                 1  \n",
       "mean          NaN                               NaN  \n",
       "std           NaN                               NaN  \n",
       "min           NaN                               NaN  \n",
       "25%           NaN                               NaN  \n",
       "50%           NaN                               NaN  \n",
       "75%           NaN                               NaN  \n",
       "max           NaN                               NaN  "
      ]
     },
     "execution_count": 4,
     "metadata": {},
     "output_type": "execute_result"
    }
   ],
   "source": [
    "portfolio.describe(include='all')"
   ]
  },
  {
   "cell_type": "code",
   "execution_count": 5,
   "metadata": {},
   "outputs": [
    {
     "data": {
      "text/plain": [
       "reward        0\n",
       "channels      0\n",
       "difficulty    0\n",
       "duration      0\n",
       "offer_type    0\n",
       "id            0\n",
       "dtype: int64"
      ]
     },
     "execution_count": 5,
     "metadata": {},
     "output_type": "execute_result"
    }
   ],
   "source": [
    "portfolio.isna().sum()"
   ]
  },
  {
   "cell_type": "markdown",
   "metadata": {},
   "source": [
    "### Description of Portfolio Data\n",
    "\n",
    "This data contains 10 campaign offers that is run together with Starbuck Customer, of which there are 3 types of promotion types being offered and the campaign offers is run with up to 4 types of channels. There is no missing data in the set and so we did not need to impute any value. Below tells of the detail for each column"
   ]
  },
  {
   "cell_type": "markdown",
   "metadata": {},
   "source": [
    "**portfolio.json schema**\n",
    "* id (string) - offer id\n",
    "* offer_type (string) - type of offer ie BOGO, discount, informational\n",
    "* difficulty (int) - minimum required spend to complete an offer, - cost to consumer\n",
    "* reward (int) - reward given for completing an offer - cost to Starbuck\n",
    "* duration (int) - time for offer to be open, in days\n",
    "* channels (list of strings), ie web, email, mobile, social"
   ]
  },
  {
   "cell_type": "markdown",
   "metadata": {},
   "source": [
    "### The following cleansing work would be neccessary\n",
    "<ol> \n",
    "    <li> To expand the channels column into multiple columns based on the list atttribute: namely web, email, mobile and social  \n",
    "    <li> To drop some of the channels namely channels and email. Email is used in every info campaign while channels have been expanded and is redundant\n",
    "    <li> To expand the offer_type, a form of categorical data, into individual columns\n",
    "    <li> Convert the duration to number of hours instead of days\n",
    "    <li> Normalize some of the value \n",
    "</ol>"
   ]
  },
  {
   "cell_type": "markdown",
   "metadata": {},
   "source": [
    "### Profile"
   ]
  },
  {
   "cell_type": "code",
   "execution_count": 6,
   "metadata": {},
   "outputs": [
    {
     "data": {
      "text/html": [
       "<div>\n",
       "<style scoped>\n",
       "    .dataframe tbody tr th:only-of-type {\n",
       "        vertical-align: middle;\n",
       "    }\n",
       "\n",
       "    .dataframe tbody tr th {\n",
       "        vertical-align: top;\n",
       "    }\n",
       "\n",
       "    .dataframe thead th {\n",
       "        text-align: right;\n",
       "    }\n",
       "</style>\n",
       "<table border=\"1\" class=\"dataframe\">\n",
       "  <thead>\n",
       "    <tr style=\"text-align: right;\">\n",
       "      <th></th>\n",
       "      <th>gender</th>\n",
       "      <th>age</th>\n",
       "      <th>id</th>\n",
       "      <th>became_member_on</th>\n",
       "      <th>income</th>\n",
       "    </tr>\n",
       "  </thead>\n",
       "  <tbody>\n",
       "    <tr>\n",
       "      <th>0</th>\n",
       "      <td>None</td>\n",
       "      <td>118</td>\n",
       "      <td>68be06ca386d4c31939f3a4f0e3dd783</td>\n",
       "      <td>20170212</td>\n",
       "      <td>NaN</td>\n",
       "    </tr>\n",
       "    <tr>\n",
       "      <th>1</th>\n",
       "      <td>F</td>\n",
       "      <td>55</td>\n",
       "      <td>0610b486422d4921ae7d2bf64640c50b</td>\n",
       "      <td>20170715</td>\n",
       "      <td>112000.0</td>\n",
       "    </tr>\n",
       "    <tr>\n",
       "      <th>2</th>\n",
       "      <td>None</td>\n",
       "      <td>118</td>\n",
       "      <td>38fe809add3b4fcf9315a9694bb96ff5</td>\n",
       "      <td>20180712</td>\n",
       "      <td>NaN</td>\n",
       "    </tr>\n",
       "    <tr>\n",
       "      <th>3</th>\n",
       "      <td>F</td>\n",
       "      <td>75</td>\n",
       "      <td>78afa995795e4d85b5d9ceeca43f5fef</td>\n",
       "      <td>20170509</td>\n",
       "      <td>100000.0</td>\n",
       "    </tr>\n",
       "    <tr>\n",
       "      <th>4</th>\n",
       "      <td>None</td>\n",
       "      <td>118</td>\n",
       "      <td>a03223e636434f42ac4c3df47e8bac43</td>\n",
       "      <td>20170804</td>\n",
       "      <td>NaN</td>\n",
       "    </tr>\n",
       "  </tbody>\n",
       "</table>\n",
       "</div>"
      ],
      "text/plain": [
       "  gender  age                                id  became_member_on    income\n",
       "0   None  118  68be06ca386d4c31939f3a4f0e3dd783          20170212       NaN\n",
       "1      F   55  0610b486422d4921ae7d2bf64640c50b          20170715  112000.0\n",
       "2   None  118  38fe809add3b4fcf9315a9694bb96ff5          20180712       NaN\n",
       "3      F   75  78afa995795e4d85b5d9ceeca43f5fef          20170509  100000.0\n",
       "4   None  118  a03223e636434f42ac4c3df47e8bac43          20170804       NaN"
      ]
     },
     "execution_count": 6,
     "metadata": {},
     "output_type": "execute_result"
    }
   ],
   "source": [
    "profile.head()"
   ]
  },
  {
   "cell_type": "code",
   "execution_count": 7,
   "metadata": {},
   "outputs": [
    {
     "data": {
      "text/html": [
       "<div>\n",
       "<style scoped>\n",
       "    .dataframe tbody tr th:only-of-type {\n",
       "        vertical-align: middle;\n",
       "    }\n",
       "\n",
       "    .dataframe tbody tr th {\n",
       "        vertical-align: top;\n",
       "    }\n",
       "\n",
       "    .dataframe thead th {\n",
       "        text-align: right;\n",
       "    }\n",
       "</style>\n",
       "<table border=\"1\" class=\"dataframe\">\n",
       "  <thead>\n",
       "    <tr style=\"text-align: right;\">\n",
       "      <th></th>\n",
       "      <th>age</th>\n",
       "      <th>became_member_on</th>\n",
       "      <th>income</th>\n",
       "    </tr>\n",
       "  </thead>\n",
       "  <tbody>\n",
       "    <tr>\n",
       "      <th>count</th>\n",
       "      <td>17000.000000</td>\n",
       "      <td>1.700000e+04</td>\n",
       "      <td>14825.000000</td>\n",
       "    </tr>\n",
       "    <tr>\n",
       "      <th>mean</th>\n",
       "      <td>62.531412</td>\n",
       "      <td>2.016703e+07</td>\n",
       "      <td>65404.991568</td>\n",
       "    </tr>\n",
       "    <tr>\n",
       "      <th>std</th>\n",
       "      <td>26.738580</td>\n",
       "      <td>1.167750e+04</td>\n",
       "      <td>21598.299410</td>\n",
       "    </tr>\n",
       "    <tr>\n",
       "      <th>min</th>\n",
       "      <td>18.000000</td>\n",
       "      <td>2.013073e+07</td>\n",
       "      <td>30000.000000</td>\n",
       "    </tr>\n",
       "    <tr>\n",
       "      <th>25%</th>\n",
       "      <td>45.000000</td>\n",
       "      <td>2.016053e+07</td>\n",
       "      <td>49000.000000</td>\n",
       "    </tr>\n",
       "    <tr>\n",
       "      <th>50%</th>\n",
       "      <td>58.000000</td>\n",
       "      <td>2.017080e+07</td>\n",
       "      <td>64000.000000</td>\n",
       "    </tr>\n",
       "    <tr>\n",
       "      <th>75%</th>\n",
       "      <td>73.000000</td>\n",
       "      <td>2.017123e+07</td>\n",
       "      <td>80000.000000</td>\n",
       "    </tr>\n",
       "    <tr>\n",
       "      <th>max</th>\n",
       "      <td>118.000000</td>\n",
       "      <td>2.018073e+07</td>\n",
       "      <td>120000.000000</td>\n",
       "    </tr>\n",
       "  </tbody>\n",
       "</table>\n",
       "</div>"
      ],
      "text/plain": [
       "                age  became_member_on         income\n",
       "count  17000.000000      1.700000e+04   14825.000000\n",
       "mean      62.531412      2.016703e+07   65404.991568\n",
       "std       26.738580      1.167750e+04   21598.299410\n",
       "min       18.000000      2.013073e+07   30000.000000\n",
       "25%       45.000000      2.016053e+07   49000.000000\n",
       "50%       58.000000      2.017080e+07   64000.000000\n",
       "75%       73.000000      2.017123e+07   80000.000000\n",
       "max      118.000000      2.018073e+07  120000.000000"
      ]
     },
     "execution_count": 7,
     "metadata": {},
     "output_type": "execute_result"
    }
   ],
   "source": [
    "profile.describe()"
   ]
  },
  {
   "cell_type": "markdown",
   "metadata": {},
   "source": [
    "To find out how many person is of age 118"
   ]
  },
  {
   "cell_type": "code",
   "execution_count": 8,
   "metadata": {},
   "outputs": [
    {
     "data": {
      "text/plain": [
       "2175"
      ]
     },
     "execution_count": 8,
     "metadata": {},
     "output_type": "execute_result"
    }
   ],
   "source": [
    "profile.age[profile.age==118].count()"
   ]
  },
  {
   "cell_type": "code",
   "execution_count": 9,
   "metadata": {},
   "outputs": [
    {
     "data": {
      "text/plain": [
       "gender              2175\n",
       "age                    0\n",
       "id                     0\n",
       "became_member_on       0\n",
       "income              2175\n",
       "dtype: int64"
      ]
     },
     "execution_count": 9,
     "metadata": {},
     "output_type": "execute_result"
    }
   ],
   "source": [
    "profile.isna().sum()"
   ]
  },
  {
   "cell_type": "markdown",
   "metadata": {},
   "source": [
    "The number of people with age 118 matches with the number of people without gender and without income data"
   ]
  },
  {
   "cell_type": "markdown",
   "metadata": {},
   "source": [
    "### Description of Profile Data\n",
    "\n",
    "A glimpse at the data show there is a number of customers, (2175 to be exact) at 118 year old! A small trivial[4], the oldest known living person  has managed to live a year of 122 and the number of people who have live to that age is not more than 10. Starbucks could not possibly get so many customer who is of 118. <br>\n",
    "\n",
    "A plausible explanation could be that the customer refuse to leave his/her identity information. The number of customer who did not have their gender, income or age is the same, 2175. We might be wanting to remove this set of user, even though it represented about 10% of the total user database\n",
    "\n",
    "We might also want to convert the became member "
   ]
  },
  {
   "cell_type": "markdown",
   "metadata": {},
   "source": [
    "**profile.json schema**\n",
    "* age (int) - age of the customer \n",
    "* became_member_on (int) - date when customer created an app account\n",
    "* gender (str) - gender of the customer (note some entries contain 'O' for other rather than M or F)\n",
    "* id (str) - customer id\n",
    "* income (float) - customer's income"
   ]
  },
  {
   "cell_type": "markdown",
   "metadata": {},
   "source": [
    "The following cleansing work would be neccessary\n",
    "\n",
    "<ol> \n",
    "    <li> To drop the members with 118 years of age     \n",
    "    <li> To convert \"became_member_on\" to \"membership\". Would need to change from string format YYYYMMDD representatation to one that is based on year they have been member\n",
    "    <li> Normalize some of the value \n",
    "</ol>"
   ]
  },
  {
   "cell_type": "markdown",
   "metadata": {},
   "source": [
    "### Transcript"
   ]
  },
  {
   "cell_type": "code",
   "execution_count": 10,
   "metadata": {
    "scrolled": true
   },
   "outputs": [
    {
     "data": {
      "text/html": [
       "<div>\n",
       "<style scoped>\n",
       "    .dataframe tbody tr th:only-of-type {\n",
       "        vertical-align: middle;\n",
       "    }\n",
       "\n",
       "    .dataframe tbody tr th {\n",
       "        vertical-align: top;\n",
       "    }\n",
       "\n",
       "    .dataframe thead th {\n",
       "        text-align: right;\n",
       "    }\n",
       "</style>\n",
       "<table border=\"1\" class=\"dataframe\">\n",
       "  <thead>\n",
       "    <tr style=\"text-align: right;\">\n",
       "      <th></th>\n",
       "      <th>person</th>\n",
       "      <th>event</th>\n",
       "      <th>value</th>\n",
       "      <th>time</th>\n",
       "    </tr>\n",
       "  </thead>\n",
       "  <tbody>\n",
       "    <tr>\n",
       "      <th>0</th>\n",
       "      <td>78afa995795e4d85b5d9ceeca43f5fef</td>\n",
       "      <td>offer received</td>\n",
       "      <td>{'offer id': '9b98b8c7a33c4b65b9aebfe6a799e6d9'}</td>\n",
       "      <td>0</td>\n",
       "    </tr>\n",
       "    <tr>\n",
       "      <th>1</th>\n",
       "      <td>a03223e636434f42ac4c3df47e8bac43</td>\n",
       "      <td>offer received</td>\n",
       "      <td>{'offer id': '0b1e1539f2cc45b7b9fa7c272da2e1d7'}</td>\n",
       "      <td>0</td>\n",
       "    </tr>\n",
       "    <tr>\n",
       "      <th>2</th>\n",
       "      <td>e2127556f4f64592b11af22de27a7932</td>\n",
       "      <td>offer received</td>\n",
       "      <td>{'offer id': '2906b810c7d4411798c6938adc9daaa5'}</td>\n",
       "      <td>0</td>\n",
       "    </tr>\n",
       "    <tr>\n",
       "      <th>3</th>\n",
       "      <td>8ec6ce2a7e7949b1bf142def7d0e0586</td>\n",
       "      <td>offer received</td>\n",
       "      <td>{'offer id': 'fafdcd668e3743c1bb461111dcafc2a4'}</td>\n",
       "      <td>0</td>\n",
       "    </tr>\n",
       "    <tr>\n",
       "      <th>4</th>\n",
       "      <td>68617ca6246f4fbc85e91a2a49552598</td>\n",
       "      <td>offer received</td>\n",
       "      <td>{'offer id': '4d5c57ea9a6940dd891ad53e9dbe8da0'}</td>\n",
       "      <td>0</td>\n",
       "    </tr>\n",
       "  </tbody>\n",
       "</table>\n",
       "</div>"
      ],
      "text/plain": [
       "                             person           event  \\\n",
       "0  78afa995795e4d85b5d9ceeca43f5fef  offer received   \n",
       "1  a03223e636434f42ac4c3df47e8bac43  offer received   \n",
       "2  e2127556f4f64592b11af22de27a7932  offer received   \n",
       "3  8ec6ce2a7e7949b1bf142def7d0e0586  offer received   \n",
       "4  68617ca6246f4fbc85e91a2a49552598  offer received   \n",
       "\n",
       "                                              value  time  \n",
       "0  {'offer id': '9b98b8c7a33c4b65b9aebfe6a799e6d9'}     0  \n",
       "1  {'offer id': '0b1e1539f2cc45b7b9fa7c272da2e1d7'}     0  \n",
       "2  {'offer id': '2906b810c7d4411798c6938adc9daaa5'}     0  \n",
       "3  {'offer id': 'fafdcd668e3743c1bb461111dcafc2a4'}     0  \n",
       "4  {'offer id': '4d5c57ea9a6940dd891ad53e9dbe8da0'}     0  "
      ]
     },
     "execution_count": 10,
     "metadata": {},
     "output_type": "execute_result"
    }
   ],
   "source": [
    "transcript.head()"
   ]
  },
  {
   "cell_type": "code",
   "execution_count": 11,
   "metadata": {},
   "outputs": [
    {
     "data": {
      "text/html": [
       "<div>\n",
       "<style scoped>\n",
       "    .dataframe tbody tr th:only-of-type {\n",
       "        vertical-align: middle;\n",
       "    }\n",
       "\n",
       "    .dataframe tbody tr th {\n",
       "        vertical-align: top;\n",
       "    }\n",
       "\n",
       "    .dataframe thead th {\n",
       "        text-align: right;\n",
       "    }\n",
       "</style>\n",
       "<table border=\"1\" class=\"dataframe\">\n",
       "  <thead>\n",
       "    <tr style=\"text-align: right;\">\n",
       "      <th></th>\n",
       "      <th>time</th>\n",
       "    </tr>\n",
       "  </thead>\n",
       "  <tbody>\n",
       "    <tr>\n",
       "      <th>count</th>\n",
       "      <td>306534.000000</td>\n",
       "    </tr>\n",
       "    <tr>\n",
       "      <th>mean</th>\n",
       "      <td>366.382940</td>\n",
       "    </tr>\n",
       "    <tr>\n",
       "      <th>std</th>\n",
       "      <td>200.326314</td>\n",
       "    </tr>\n",
       "    <tr>\n",
       "      <th>min</th>\n",
       "      <td>0.000000</td>\n",
       "    </tr>\n",
       "    <tr>\n",
       "      <th>25%</th>\n",
       "      <td>186.000000</td>\n",
       "    </tr>\n",
       "    <tr>\n",
       "      <th>50%</th>\n",
       "      <td>408.000000</td>\n",
       "    </tr>\n",
       "    <tr>\n",
       "      <th>75%</th>\n",
       "      <td>528.000000</td>\n",
       "    </tr>\n",
       "    <tr>\n",
       "      <th>max</th>\n",
       "      <td>714.000000</td>\n",
       "    </tr>\n",
       "  </tbody>\n",
       "</table>\n",
       "</div>"
      ],
      "text/plain": [
       "                time\n",
       "count  306534.000000\n",
       "mean      366.382940\n",
       "std       200.326314\n",
       "min         0.000000\n",
       "25%       186.000000\n",
       "50%       408.000000\n",
       "75%       528.000000\n",
       "max       714.000000"
      ]
     },
     "execution_count": 11,
     "metadata": {},
     "output_type": "execute_result"
    }
   ],
   "source": [
    "transcript.describe()"
   ]
  },
  {
   "cell_type": "code",
   "execution_count": 12,
   "metadata": {},
   "outputs": [
    {
     "data": {
      "text/plain": [
       "person    0\n",
       "event     0\n",
       "value     0\n",
       "time      0\n",
       "dtype: int64"
      ]
     },
     "execution_count": 12,
     "metadata": {},
     "output_type": "execute_result"
    }
   ],
   "source": [
    "transcript.isna().sum()"
   ]
  },
  {
   "cell_type": "code",
   "execution_count": 13,
   "metadata": {},
   "outputs": [
    {
     "data": {
      "text/plain": [
       "transaction        138953\n",
       "offer received      76277\n",
       "offer viewed        57725\n",
       "offer completed     33579\n",
       "Name: event, dtype: int64"
      ]
     },
     "execution_count": 13,
     "metadata": {},
     "output_type": "execute_result"
    }
   ],
   "source": [
    "transcript.event.value_counts()"
   ]
  },
  {
   "cell_type": "markdown",
   "metadata": {},
   "source": [
    "### Description of Transcript Data\n",
    "\n"
   ]
  },
  {
   "cell_type": "markdown",
   "metadata": {},
   "source": [
    "transcript.json\n",
    "\n",
    "    event (str) - record description of type transaction, offer received, offer viewed, offer completed\n",
    "    person (str) - customer id\n",
    "    time (int) - time in hours since start of test. The data begins at time t=0\n",
    "    value - (dict of strings) - either an offer id or transaction amount depending on the record\n"
   ]
  },
  {
   "cell_type": "markdown",
   "metadata": {},
   "source": [
    "The following cleansing work would be neccessary \n",
    "\n",
    "<ol>\n",
    "    <li> To remove transaction of those users which have been removed in profile json \n",
    "    <li> To expand the event column, a form of categorical data, into individual binary columns of transaction, offer received, offer viewed, offer completed\n",
    "    <li> To make matter simple, formed a new column call campaign_success based on customer would have to view the offer and complete the offer, then it would consider as campaign success while completion of offer without actually viewing the offer would consider to be a failure\n",
    "    <li> To extract out the value type into either one indicating of offer_id or transaction amount. Consideration is also taken to drop those transaction amount data\n",
    "    <li> Normalize some of the value \n",
    "</ol>"
   ]
  },
  {
   "cell_type": "markdown",
   "metadata": {},
   "source": [
    "Finally then combine the 3 dataframe to form a master dataframe"
   ]
  },
  {
   "cell_type": "markdown",
   "metadata": {},
   "source": [
    "# Part III :  Data Cleansing"
   ]
  },
  {
   "cell_type": "markdown",
   "metadata": {},
   "source": [
    "We perform cleaning and engineering for all data sets (portfolio, profile, transcript). In summary, we will focus on the below work direction:\n",
    "\n",
    "<ul>\n",
    "    <li> convert dtype of features where necessary eg from datetime to string or vice versa </li>\n",
    "    <li> drop rows with missing data or outliers </li>\n",
    "    <li> drop rows with duplicated data </li>\n",
    "    <li> group data for further data analysis </li>\n",
    "    <li> create new features with binaries from categorical variables </li>\n",
    "    <li> normalize data for columns with a different range of values </li>\n",
    "</ul>"
   ]
  },
  {
   "cell_type": "markdown",
   "metadata": {},
   "source": [
    "Cleaning up the portfolio dataset"
   ]
  },
  {
   "cell_type": "code",
   "execution_count": 14,
   "metadata": {},
   "outputs": [],
   "source": [
    "## copy a copy of the portfolio dataset\n",
    "portfolio_df  = portfolio.copy()"
   ]
  },
  {
   "cell_type": "markdown",
   "metadata": {},
   "source": [
    "Create new columns(web, emaiil,mobile & social) from channels"
   ]
  },
  {
   "cell_type": "code",
   "execution_count": 15,
   "metadata": {},
   "outputs": [
    {
     "name": "stdout",
     "output_type": "stream",
     "text": [
      "   reward                      channels  difficulty  duration     offer_type  \\\n",
      "0      10       [email, mobile, social]          10         7           bogo   \n",
      "1      10  [web, email, mobile, social]          10         5           bogo   \n",
      "2       0          [web, email, mobile]           0         4  informational   \n",
      "3       5          [web, email, mobile]           5         7           bogo   \n",
      "4       5                  [web, email]          20        10       discount   \n",
      "5       3  [web, email, mobile, social]           7         7       discount   \n",
      "6       2  [web, email, mobile, social]          10        10       discount   \n",
      "7       0       [email, mobile, social]           0         3  informational   \n",
      "8       5  [web, email, mobile, social]           5         5           bogo   \n",
      "9       2          [web, email, mobile]          10         7       discount   \n",
      "\n",
      "                                 id  web  email  mobile  social  \n",
      "0  ae264e3637204a6fb9bb56bc8210ddfd    0      1       1       1  \n",
      "1  4d5c57ea9a6940dd891ad53e9dbe8da0    1      1       1       1  \n",
      "2  3f207df678b143eea3cee63160fa8bed    1      1       1       0  \n",
      "3  9b98b8c7a33c4b65b9aebfe6a799e6d9    1      1       1       0  \n",
      "4  0b1e1539f2cc45b7b9fa7c272da2e1d7    1      1       0       0  \n",
      "5  2298d6c36e964ae4a3e7e9706d1fb8c2    1      1       1       1  \n",
      "6  fafdcd668e3743c1bb461111dcafc2a4    1      1       1       1  \n",
      "7  5a8bc65990b245e5a138643cd4eb9837    0      1       1       1  \n",
      "8  f19421c1d4aa40978ebb69ca19b0e20d    1      1       1       1  \n",
      "9  2906b810c7d4411798c6938adc9daaa5    1      1       1       0  \n"
     ]
    }
   ],
   "source": [
    "channels_list  =  ['web', 'email', 'mobile', 'social'] \n",
    "\n",
    "for index in channels_list: \n",
    "    portfolio_df[index] = portfolio_df.channels.apply(lambda x: (index in x)+0)\n",
    "\n",
    "print(portfolio_df)"
   ]
  },
  {
   "cell_type": "markdown",
   "metadata": {},
   "source": [
    "Convert offer_type from categorical into numerical data"
   ]
  },
  {
   "cell_type": "code",
   "execution_count": 16,
   "metadata": {},
   "outputs": [],
   "source": [
    "portfolio_df.offer_type = portfolio_df.offer_type.replace([ 'informational', 'bogo', 'discount'],\n",
    "                          [0, 1, 2])"
   ]
  },
  {
   "cell_type": "markdown",
   "metadata": {},
   "source": [
    "Changing the duration from day into hours"
   ]
  },
  {
   "cell_type": "code",
   "execution_count": 17,
   "metadata": {},
   "outputs": [],
   "source": [
    "portfolio_df.duration  = portfolio_df.duration * 24"
   ]
  },
  {
   "cell_type": "markdown",
   "metadata": {},
   "source": [
    "Adding three more columns -- Offered, Viewed, Complete"
   ]
  },
  {
   "cell_type": "code",
   "execution_count": 18,
   "metadata": {},
   "outputs": [],
   "source": [
    "portfolio_df['Viewed'] = 0\n",
    "portfolio_df['Completed'] = 0\n",
    "portfolio_df['Offered'] = 0"
   ]
  },
  {
   "cell_type": "markdown",
   "metadata": {},
   "source": [
    "#### Cleaning up profile dataframe"
   ]
  },
  {
   "cell_type": "markdown",
   "metadata": {},
   "source": [
    "changing the \"became_member_on\" to member since the earliest date"
   ]
  },
  {
   "cell_type": "code",
   "execution_count": 19,
   "metadata": {},
   "outputs": [],
   "source": [
    "## make a copy of profile\n",
    "profile_df = profile.copy()"
   ]
  },
  {
   "cell_type": "markdown",
   "metadata": {},
   "source": [
    "Removing the anonmynous user with age 118, no gender and income information"
   ]
  },
  {
   "cell_type": "code",
   "execution_count": 20,
   "metadata": {},
   "outputs": [],
   "source": [
    "profile_df = profile_df[profile_df.age!=118]\n",
    "profile_df_size = 17000-2175\n",
    "\n",
    "### sanity check on profile - after removing\n",
    "assert profile_df.shape[0] >= profile_df_size , \"the size is not right\""
   ]
  },
  {
   "cell_type": "markdown",
   "metadata": {},
   "source": [
    "Adding columns for future usage"
   ]
  },
  {
   "cell_type": "code",
   "execution_count": 21,
   "metadata": {},
   "outputs": [],
   "source": [
    "profile_df['Completed'] = 0\n",
    "profile_df['Viewed'] = 0\n",
    "profile_df['Offered'] = 0"
   ]
  },
  {
   "cell_type": "markdown",
   "metadata": {},
   "source": [
    "Changing the data in column \"became_member_on\" to \"membership\""
   ]
  },
  {
   "cell_type": "code",
   "execution_count": 22,
   "metadata": {},
   "outputs": [
    {
     "name": "stdout",
     "output_type": "stream",
     "text": [
      "      gender  age                                id  membership    income  \\\n",
      "1          F   55  0610b486422d4921ae7d2bf64640c50b           1  112000.0   \n",
      "3          F   75  78afa995795e4d85b5d9ceeca43f5fef           1  100000.0   \n",
      "5          M   68  e2127556f4f64592b11af22de27a7932           0   70000.0   \n",
      "8          M   65  389bc3fa690240e798340f5a15918d5c           0   53000.0   \n",
      "12         M   58  2eeac8d8feae4a8cad5a6af0499a211d           1   51000.0   \n",
      "...      ...  ...                               ...         ...       ...   \n",
      "16995      F   45  6d5f3a774f3d4714ab0c092238f3a1d7           0   54000.0   \n",
      "16996      M   61  2cb4f97358b841b9a9773a7aa05a9d77           0   72000.0   \n",
      "16997      M   49  01d26f638c274aa0b965d24cefe3183f           1   73000.0   \n",
      "16998      F   83  9dc1421481194dcd9400aec7c9ae6366           2   50000.0   \n",
      "16999      F   62  e4052622e5ba45a8b96b59aba68cf068           1   82000.0   \n",
      "\n",
      "       Completed  Viewed  Offered  \n",
      "1              0       0        0  \n",
      "3              0       0        0  \n",
      "5              0       0        0  \n",
      "8              0       0        0  \n",
      "12             0       0        0  \n",
      "...          ...     ...      ...  \n",
      "16995          0       0        0  \n",
      "16996          0       0        0  \n",
      "16997          0       0        0  \n",
      "16998          0       0        0  \n",
      "16999          0       0        0  \n",
      "\n",
      "[14825 rows x 8 columns]\n"
     ]
    }
   ],
   "source": [
    "## rename the columns\n",
    "profile_df.rename(columns = {'became_member_on':'membership'}, inplace=True)\n",
    "                             \n",
    "base_year  = int(profile_df.membership.max() /10000) \n",
    "profile_df['membership']= profile_df.membership.apply(lambda x: base_year - int(x/10000))\n",
    "\n",
    "print(profile_df)"
   ]
  },
  {
   "cell_type": "markdown",
   "metadata": {},
   "source": [
    "Creating a master dataframe to hold all the data"
   ]
  },
  {
   "cell_type": "markdown",
   "metadata": {},
   "source": [
    "#### Cleaning up transcript dataframe"
   ]
  },
  {
   "cell_type": "code",
   "execution_count": 23,
   "metadata": {},
   "outputs": [],
   "source": [
    "transcript_df = transcript.copy()"
   ]
  },
  {
   "cell_type": "markdown",
   "metadata": {},
   "source": [
    "Removing those records whose user does not appear in the new profile dataframe"
   ]
  },
  {
   "cell_type": "code",
   "execution_count": 24,
   "metadata": {},
   "outputs": [
    {
     "data": {
      "text/plain": [
       "person    272762\n",
       "event     272762\n",
       "value     272762\n",
       "time      272762\n",
       "dtype: int64"
      ]
     },
     "execution_count": 24,
     "metadata": {},
     "output_type": "execute_result"
    }
   ],
   "source": [
    "transcript_df = transcript_df.value.apply(lambda x: (index in x)+0)\n",
    "\n",
    "transcript_df = transcript[transcript['person'].isin(profile_df['id'])]\n",
    "\n",
    "transcript_df.count()"
   ]
  },
  {
   "cell_type": "markdown",
   "metadata": {},
   "source": [
    "We have almost removed 10% of the records in transcript"
   ]
  },
  {
   "cell_type": "code",
   "execution_count": 25,
   "metadata": {},
   "outputs": [
    {
     "data": {
      "text/plain": [
       "transaction        123957\n",
       "offer received      66501\n",
       "offer viewed        49860\n",
       "offer completed     32444\n",
       "Name: event, dtype: int64"
      ]
     },
     "execution_count": 25,
     "metadata": {},
     "output_type": "execute_result"
    }
   ],
   "source": [
    "transcript_df.event.value_counts()"
   ]
  },
  {
   "cell_type": "markdown",
   "metadata": {},
   "source": [
    "Changing the event categories into individual columns (binary) and then rename them"
   ]
  },
  {
   "cell_type": "code",
   "execution_count": 26,
   "metadata": {},
   "outputs": [
    {
     "name": "stdout",
     "output_type": "stream",
     "text": [
      "        transaction  offer_received  offer_viewed  offer_completed\n",
      "0                 0               1             0                0\n",
      "2                 0               1             0                0\n",
      "5                 0               1             0                0\n",
      "7                 0               1             0                0\n",
      "8                 0               1             0                0\n",
      "...             ...             ...           ...              ...\n",
      "306527            0               0             0                1\n",
      "306529            1               0             0                0\n",
      "306530            1               0             0                0\n",
      "306531            1               0             0                0\n",
      "306532            1               0             0                0\n",
      "\n",
      "[272762 rows x 4 columns]\n"
     ]
    }
   ],
   "source": [
    "event_list  =  ['transaction', 'offer received', 'offer viewed', 'offer completed'] \n",
    "\n",
    "transcript_df_events = pd.DataFrame()\n",
    "\n",
    "for index in event_list: \n",
    "    transcript_df_events[index] = transcript_df.event.apply(lambda x: 1 if x == index else 0 )\n",
    "\n",
    "### rename \n",
    "transcript_df_events.rename(columns={\"offer received\": \"offer_received\",\n",
    "                                     \"offer viewed\": \"offer_viewed\", \n",
    "                                     \"offer completed\": \"offer_completed\"}, inplace=True)\n",
    "\n",
    "### print out for view\n",
    "print(transcript_df_events)"
   ]
  },
  {
   "cell_type": "code",
   "execution_count": 27,
   "metadata": {},
   "outputs": [
    {
     "data": {
      "text/plain": [
       "transaction        123957\n",
       "offer_received      66501\n",
       "offer_viewed        49860\n",
       "offer_completed     32444\n",
       "dtype: int64"
      ]
     },
     "execution_count": 27,
     "metadata": {},
     "output_type": "execute_result"
    }
   ],
   "source": [
    "### find out the events categories and number\n",
    "transcript_df_events.sum()"
   ]
  },
  {
   "cell_type": "markdown",
   "metadata": {},
   "source": [
    "Changing the values categories into individual columns (binary)"
   ]
  },
  {
   "cell_type": "code",
   "execution_count": 28,
   "metadata": {},
   "outputs": [
    {
     "name": "stdout",
     "output_type": "stream",
     "text": [
      "       amount                          offer_id\n",
      "0              9b98b8c7a33c4b65b9aebfe6a799e6d9\n",
      "2              2906b810c7d4411798c6938adc9daaa5\n",
      "5              f19421c1d4aa40978ebb69ca19b0e20d\n",
      "7              3f207df678b143eea3cee63160fa8bed\n",
      "8              0b1e1539f2cc45b7b9fa7c272da2e1d7\n",
      "...       ...                               ...\n",
      "306527         fafdcd668e3743c1bb461111dcafc2a4\n",
      "306529   1.59                                  \n",
      "306530   9.53                                  \n",
      "306531   3.61                                  \n",
      "306532   3.53                                  \n",
      "\n",
      "[272762 rows x 2 columns]\n"
     ]
    }
   ],
   "source": [
    "value_list  =  ['amount', 'offer_id', 'offer id'] \n",
    "\n",
    "transcript_df_value = pd.DataFrame()\n",
    "\n",
    "for index in value_list: \n",
    "    transcript_df_value[index] = transcript_df.value.apply(lambda x: x.get(index) if x.get(index) != None else \"\" )\n",
    "\n",
    "transcript_df_value['offer_id']   = transcript_df_value['offer_id']  + transcript_df_value['offer id'] \n",
    "transcript_df_value.drop('offer id', axis=1, inplace=True)\n",
    "print(transcript_df_value)"
   ]
  },
  {
   "cell_type": "markdown",
   "metadata": {},
   "source": [
    "Concatenating the dataframe"
   ]
  },
  {
   "cell_type": "code",
   "execution_count": 29,
   "metadata": {},
   "outputs": [],
   "source": [
    "frame = [transcript_df, transcript_df_events,transcript_df_value]\n",
    "\n",
    "transcript_df = pd.concat(frame, axis=1)"
   ]
  },
  {
   "cell_type": "code",
   "execution_count": 30,
   "metadata": {},
   "outputs": [
    {
     "data": {
      "text/plain": [
       "person             0\n",
       "event              0\n",
       "value              0\n",
       "time               0\n",
       "transaction        0\n",
       "offer_received     0\n",
       "offer_viewed       0\n",
       "offer_completed    0\n",
       "amount             0\n",
       "offer_id           0\n",
       "dtype: int64"
      ]
     },
     "execution_count": 30,
     "metadata": {},
     "output_type": "execute_result"
    }
   ],
   "source": [
    "transcript_df.isna().sum()"
   ]
  },
  {
   "cell_type": "code",
   "execution_count": 31,
   "metadata": {},
   "outputs": [
    {
     "name": "stdout",
     "output_type": "stream",
     "text": [
      "                                  person            event  \\\n",
      "0       78afa995795e4d85b5d9ceeca43f5fef   offer received   \n",
      "2       e2127556f4f64592b11af22de27a7932   offer received   \n",
      "5       389bc3fa690240e798340f5a15918d5c   offer received   \n",
      "7       2eeac8d8feae4a8cad5a6af0499a211d   offer received   \n",
      "8       aa4862eba776480b8bb9c68455b8c2e1   offer received   \n",
      "...                                  ...              ...   \n",
      "306527  24f56b5e1849462093931b164eb803b5  offer completed   \n",
      "306529  b3a1272bc9904337b331bf348c3e8c17      transaction   \n",
      "306530  68213b08d99a4ae1b0dcb72aebd9aa35      transaction   \n",
      "306531  a00058cf10334a308c68e7631c529907      transaction   \n",
      "306532  76ddbd6576844afe811f1a3c0fbb5bec      transaction   \n",
      "\n",
      "                                                    value  time  transaction  \\\n",
      "0        {'offer id': '9b98b8c7a33c4b65b9aebfe6a799e6d9'}     0            0   \n",
      "2        {'offer id': '2906b810c7d4411798c6938adc9daaa5'}     0            0   \n",
      "5        {'offer id': 'f19421c1d4aa40978ebb69ca19b0e20d'}     0            0   \n",
      "7        {'offer id': '3f207df678b143eea3cee63160fa8bed'}     0            0   \n",
      "8        {'offer id': '0b1e1539f2cc45b7b9fa7c272da2e1d7'}     0            0   \n",
      "...                                                   ...   ...          ...   \n",
      "306527  {'offer_id': 'fafdcd668e3743c1bb461111dcafc2a4...   714            0   \n",
      "306529                     {'amount': 1.5899999999999999}   714            1   \n",
      "306530                                   {'amount': 9.53}   714            1   \n",
      "306531                                   {'amount': 3.61}   714            1   \n",
      "306532                     {'amount': 3.5300000000000002}   714            1   \n",
      "\n",
      "        offer_received  offer_viewed  offer_completed amount  \\\n",
      "0                    1             0                0          \n",
      "2                    1             0                0          \n",
      "5                    1             0                0          \n",
      "7                    1             0                0          \n",
      "8                    1             0                0          \n",
      "...                ...           ...              ...    ...   \n",
      "306527               0             0                1          \n",
      "306529               0             0                0   1.59   \n",
      "306530               0             0                0   9.53   \n",
      "306531               0             0                0   3.61   \n",
      "306532               0             0                0   3.53   \n",
      "\n",
      "                                offer_id  \n",
      "0       9b98b8c7a33c4b65b9aebfe6a799e6d9  \n",
      "2       2906b810c7d4411798c6938adc9daaa5  \n",
      "5       f19421c1d4aa40978ebb69ca19b0e20d  \n",
      "7       3f207df678b143eea3cee63160fa8bed  \n",
      "8       0b1e1539f2cc45b7b9fa7c272da2e1d7  \n",
      "...                                  ...  \n",
      "306527  fafdcd668e3743c1bb461111dcafc2a4  \n",
      "306529                                    \n",
      "306530                                    \n",
      "306531                                    \n",
      "306532                                    \n",
      "\n",
      "[272762 rows x 10 columns]\n"
     ]
    }
   ],
   "source": [
    "print(transcript_df)"
   ]
  },
  {
   "cell_type": "markdown",
   "metadata": {},
   "source": [
    "We would also need to filter out customers who completed the offer without recieving or viewing the offer to give a more balanced view. However first we would need to create a new dataframe"
   ]
  },
  {
   "cell_type": "code",
   "execution_count": 32,
   "metadata": {},
   "outputs": [
    {
     "data": {
      "text/plain": [
       "66501"
      ]
     },
     "execution_count": 32,
     "metadata": {},
     "output_type": "execute_result"
    }
   ],
   "source": [
    "transcript_df.offer_received.sum()"
   ]
  },
  {
   "cell_type": "markdown",
   "metadata": {},
   "source": [
    "Finally we would want to create another DataFrame called offer which is based on every single offer made in the 10 campaign. The dataframe would include information from the 3 dataframe: \n",
    "<ul>\n",
    "    <li> portfolio\n",
    "    <li> profile\n",
    "    <li> transaction\n",
    "</ul>\n",
    "\n",
    "From transaction data frame, we would pull the following rows that have recieved the offer and the following columns\n",
    "<ul>\n",
    "    <li>person\n",
    "    <li>offer_id\n",
    "    <li>offer_viewed \n",
    "    <li>offer_completed\n",
    "    <li>offer_type\n",
    "    <li>amount\n",
    "</ul>\n",
    "\n",
    "From portfolio data frame, we would pull the following columns\n",
    "<ul>\n",
    "     <li>reward\n",
    "     <li>difficulty \n",
    "     <li>duration  \n",
    "     <li>web\n",
    "     <li>mobile\n",
    "     <li>social\n",
    "</ul>\n",
    "\n",
    "From profile data frame, we would pull the following columns\n",
    "<ul>\n",
    "     <li>gender\n",
    "     <li>age \n",
    "     <li>income  \n",
    "     <li>membership\n",
    "</ul>"
   ]
  },
  {
   "cell_type": "code",
   "execution_count": 33,
   "metadata": {},
   "outputs": [],
   "source": [
    "def findViewed(df, offer_id):\n",
    "    result = False\n",
    "    if (df.loc[df.offer_id == offer_id].offer_viewed ==1).any():\n",
    "        result = True\n",
    "    \n",
    "    return result"
   ]
  },
  {
   "cell_type": "code",
   "execution_count": 34,
   "metadata": {},
   "outputs": [
    {
     "name": "stdout",
     "output_type": "stream",
     "text": [
      "66501\n"
     ]
    }
   ],
   "source": [
    "### we made a copy of whatever we did until now\n",
    "offer = transcript_df.copy()\n",
    "\n",
    "#### get all the offer that were send out\n",
    "offer = offer[offer.offer_received==1]\n",
    "\n",
    "offer = offer.drop(['offer_received','value', 'time', 'transaction', 'amount'], axis=1)\n",
    "\n",
    "print(offer.person.count())"
   ]
  },
  {
   "cell_type": "code",
   "execution_count": 37,
   "metadata": {},
   "outputs": [
    {
     "data": {
      "text/plain": [
       "66501"
      ]
     },
     "execution_count": 37,
     "metadata": {},
     "output_type": "execute_result"
    }
   ],
   "source": [
    "transcript_df_person_offerid = transcript_df.groupby(['person', 'offer_id'])\n",
    "\n",
    "for key, item in transcript_df_person_offerid:\n",
    "    tmp = transcript_df_person_offerid.get_group(key)\n",
    "    if tmp.offer_completed.sum() == 1:\n",
    "        if tmp.offer_viewed.sum() == 1:\n",
    "            offer.loc[offer.offer_id==key[1], 'offer_completed'] = 1\n",
    "            offer.loc[offer.offer_id==key[1], 'offer_viewed'] = 1\n",
    "        else:\n",
    "            offer.loc[offer.offer_id==key[1], 'offer_completed'] = 0\n",
    "            offer.loc[offer.offer_id==key[1], 'offer_viewed'] = 0\n",
    "    if tmp.offer_viewed.sum() == 1:\n",
    "        offer.loc[offer.offer_id==key[1], 'offer_viewed'] = 1\n",
    "    \n",
    "\n",
    "\n",
    "\n",
    "\n"
   ]
  },
  {
   "cell_type": "code",
   "execution_count": 44,
   "metadata": {},
   "outputs": [
    {
     "data": {
      "text/html": [
       "<div>\n",
       "<style scoped>\n",
       "    .dataframe tbody tr th:only-of-type {\n",
       "        vertical-align: middle;\n",
       "    }\n",
       "\n",
       "    .dataframe tbody tr th {\n",
       "        vertical-align: top;\n",
       "    }\n",
       "\n",
       "    .dataframe thead th {\n",
       "        text-align: right;\n",
       "    }\n",
       "</style>\n",
       "<table border=\"1\" class=\"dataframe\">\n",
       "  <thead>\n",
       "    <tr style=\"text-align: right;\">\n",
       "      <th></th>\n",
       "      <th>reward</th>\n",
       "      <th>channels</th>\n",
       "      <th>difficulty</th>\n",
       "      <th>duration</th>\n",
       "      <th>offer_type</th>\n",
       "      <th>offer_id</th>\n",
       "      <th>web</th>\n",
       "      <th>email</th>\n",
       "      <th>mobile</th>\n",
       "      <th>social</th>\n",
       "      <th>Viewed</th>\n",
       "      <th>Completed</th>\n",
       "      <th>Offered</th>\n",
       "    </tr>\n",
       "  </thead>\n",
       "  <tbody>\n",
       "    <tr>\n",
       "      <th>0</th>\n",
       "      <td>10</td>\n",
       "      <td>[email, mobile, social]</td>\n",
       "      <td>10</td>\n",
       "      <td>168</td>\n",
       "      <td>1</td>\n",
       "      <td>ae264e3637204a6fb9bb56bc8210ddfd</td>\n",
       "      <td>0</td>\n",
       "      <td>1</td>\n",
       "      <td>1</td>\n",
       "      <td>1</td>\n",
       "      <td>0</td>\n",
       "      <td>0</td>\n",
       "      <td>0</td>\n",
       "    </tr>\n",
       "    <tr>\n",
       "      <th>1</th>\n",
       "      <td>10</td>\n",
       "      <td>[web, email, mobile, social]</td>\n",
       "      <td>10</td>\n",
       "      <td>120</td>\n",
       "      <td>1</td>\n",
       "      <td>4d5c57ea9a6940dd891ad53e9dbe8da0</td>\n",
       "      <td>1</td>\n",
       "      <td>1</td>\n",
       "      <td>1</td>\n",
       "      <td>1</td>\n",
       "      <td>0</td>\n",
       "      <td>0</td>\n",
       "      <td>0</td>\n",
       "    </tr>\n",
       "    <tr>\n",
       "      <th>2</th>\n",
       "      <td>0</td>\n",
       "      <td>[web, email, mobile]</td>\n",
       "      <td>0</td>\n",
       "      <td>96</td>\n",
       "      <td>0</td>\n",
       "      <td>3f207df678b143eea3cee63160fa8bed</td>\n",
       "      <td>1</td>\n",
       "      <td>1</td>\n",
       "      <td>1</td>\n",
       "      <td>0</td>\n",
       "      <td>0</td>\n",
       "      <td>0</td>\n",
       "      <td>0</td>\n",
       "    </tr>\n",
       "    <tr>\n",
       "      <th>3</th>\n",
       "      <td>5</td>\n",
       "      <td>[web, email, mobile]</td>\n",
       "      <td>5</td>\n",
       "      <td>168</td>\n",
       "      <td>1</td>\n",
       "      <td>9b98b8c7a33c4b65b9aebfe6a799e6d9</td>\n",
       "      <td>1</td>\n",
       "      <td>1</td>\n",
       "      <td>1</td>\n",
       "      <td>0</td>\n",
       "      <td>0</td>\n",
       "      <td>0</td>\n",
       "      <td>0</td>\n",
       "    </tr>\n",
       "    <tr>\n",
       "      <th>4</th>\n",
       "      <td>5</td>\n",
       "      <td>[web, email]</td>\n",
       "      <td>20</td>\n",
       "      <td>240</td>\n",
       "      <td>2</td>\n",
       "      <td>0b1e1539f2cc45b7b9fa7c272da2e1d7</td>\n",
       "      <td>1</td>\n",
       "      <td>1</td>\n",
       "      <td>0</td>\n",
       "      <td>0</td>\n",
       "      <td>0</td>\n",
       "      <td>0</td>\n",
       "      <td>0</td>\n",
       "    </tr>\n",
       "    <tr>\n",
       "      <th>5</th>\n",
       "      <td>3</td>\n",
       "      <td>[web, email, mobile, social]</td>\n",
       "      <td>7</td>\n",
       "      <td>168</td>\n",
       "      <td>2</td>\n",
       "      <td>2298d6c36e964ae4a3e7e9706d1fb8c2</td>\n",
       "      <td>1</td>\n",
       "      <td>1</td>\n",
       "      <td>1</td>\n",
       "      <td>1</td>\n",
       "      <td>0</td>\n",
       "      <td>0</td>\n",
       "      <td>0</td>\n",
       "    </tr>\n",
       "    <tr>\n",
       "      <th>6</th>\n",
       "      <td>2</td>\n",
       "      <td>[web, email, mobile, social]</td>\n",
       "      <td>10</td>\n",
       "      <td>240</td>\n",
       "      <td>2</td>\n",
       "      <td>fafdcd668e3743c1bb461111dcafc2a4</td>\n",
       "      <td>1</td>\n",
       "      <td>1</td>\n",
       "      <td>1</td>\n",
       "      <td>1</td>\n",
       "      <td>0</td>\n",
       "      <td>0</td>\n",
       "      <td>0</td>\n",
       "    </tr>\n",
       "    <tr>\n",
       "      <th>7</th>\n",
       "      <td>0</td>\n",
       "      <td>[email, mobile, social]</td>\n",
       "      <td>0</td>\n",
       "      <td>72</td>\n",
       "      <td>0</td>\n",
       "      <td>5a8bc65990b245e5a138643cd4eb9837</td>\n",
       "      <td>0</td>\n",
       "      <td>1</td>\n",
       "      <td>1</td>\n",
       "      <td>1</td>\n",
       "      <td>0</td>\n",
       "      <td>0</td>\n",
       "      <td>0</td>\n",
       "    </tr>\n",
       "    <tr>\n",
       "      <th>8</th>\n",
       "      <td>5</td>\n",
       "      <td>[web, email, mobile, social]</td>\n",
       "      <td>5</td>\n",
       "      <td>120</td>\n",
       "      <td>1</td>\n",
       "      <td>f19421c1d4aa40978ebb69ca19b0e20d</td>\n",
       "      <td>1</td>\n",
       "      <td>1</td>\n",
       "      <td>1</td>\n",
       "      <td>1</td>\n",
       "      <td>0</td>\n",
       "      <td>0</td>\n",
       "      <td>0</td>\n",
       "    </tr>\n",
       "    <tr>\n",
       "      <th>9</th>\n",
       "      <td>2</td>\n",
       "      <td>[web, email, mobile]</td>\n",
       "      <td>10</td>\n",
       "      <td>168</td>\n",
       "      <td>2</td>\n",
       "      <td>2906b810c7d4411798c6938adc9daaa5</td>\n",
       "      <td>1</td>\n",
       "      <td>1</td>\n",
       "      <td>1</td>\n",
       "      <td>0</td>\n",
       "      <td>0</td>\n",
       "      <td>0</td>\n",
       "      <td>0</td>\n",
       "    </tr>\n",
       "  </tbody>\n",
       "</table>\n",
       "</div>"
      ],
      "text/plain": [
       "   reward                      channels  difficulty  duration  offer_type  \\\n",
       "0      10       [email, mobile, social]          10       168           1   \n",
       "1      10  [web, email, mobile, social]          10       120           1   \n",
       "2       0          [web, email, mobile]           0        96           0   \n",
       "3       5          [web, email, mobile]           5       168           1   \n",
       "4       5                  [web, email]          20       240           2   \n",
       "5       3  [web, email, mobile, social]           7       168           2   \n",
       "6       2  [web, email, mobile, social]          10       240           2   \n",
       "7       0       [email, mobile, social]           0        72           0   \n",
       "8       5  [web, email, mobile, social]           5       120           1   \n",
       "9       2          [web, email, mobile]          10       168           2   \n",
       "\n",
       "                           offer_id  web  email  mobile  social  Viewed  \\\n",
       "0  ae264e3637204a6fb9bb56bc8210ddfd    0      1       1       1       0   \n",
       "1  4d5c57ea9a6940dd891ad53e9dbe8da0    1      1       1       1       0   \n",
       "2  3f207df678b143eea3cee63160fa8bed    1      1       1       0       0   \n",
       "3  9b98b8c7a33c4b65b9aebfe6a799e6d9    1      1       1       0       0   \n",
       "4  0b1e1539f2cc45b7b9fa7c272da2e1d7    1      1       0       0       0   \n",
       "5  2298d6c36e964ae4a3e7e9706d1fb8c2    1      1       1       1       0   \n",
       "6  fafdcd668e3743c1bb461111dcafc2a4    1      1       1       1       0   \n",
       "7  5a8bc65990b245e5a138643cd4eb9837    0      1       1       1       0   \n",
       "8  f19421c1d4aa40978ebb69ca19b0e20d    1      1       1       1       0   \n",
       "9  2906b810c7d4411798c6938adc9daaa5    1      1       1       0       0   \n",
       "\n",
       "   Completed  Offered  \n",
       "0          0        0  \n",
       "1          0        0  \n",
       "2          0        0  \n",
       "3          0        0  \n",
       "4          0        0  \n",
       "5          0        0  \n",
       "6          0        0  \n",
       "7          0        0  \n",
       "8          0        0  \n",
       "9          0        0  "
      ]
     },
     "execution_count": 44,
     "metadata": {},
     "output_type": "execute_result"
    }
   ],
   "source": [
    "portfolio_df = portfolio_df.rename(columns={'id': 'offer_id'})\n",
    "\n",
    "portfolio_df"
   ]
  },
  {
   "cell_type": "code",
   "execution_count": 45,
   "metadata": {},
   "outputs": [
    {
     "data": {
      "text/html": [
       "<div>\n",
       "<style scoped>\n",
       "    .dataframe tbody tr th:only-of-type {\n",
       "        vertical-align: middle;\n",
       "    }\n",
       "\n",
       "    .dataframe tbody tr th {\n",
       "        vertical-align: top;\n",
       "    }\n",
       "\n",
       "    .dataframe thead th {\n",
       "        text-align: right;\n",
       "    }\n",
       "</style>\n",
       "<table border=\"1\" class=\"dataframe\">\n",
       "  <thead>\n",
       "    <tr style=\"text-align: right;\">\n",
       "      <th></th>\n",
       "      <th>person</th>\n",
       "      <th>event</th>\n",
       "      <th>offer_viewed</th>\n",
       "      <th>offer_completed</th>\n",
       "      <th>offer_id</th>\n",
       "    </tr>\n",
       "  </thead>\n",
       "  <tbody>\n",
       "    <tr>\n",
       "      <th>0</th>\n",
       "      <td>78afa995795e4d85b5d9ceeca43f5fef</td>\n",
       "      <td>offer received</td>\n",
       "      <td>1</td>\n",
       "      <td>1</td>\n",
       "      <td>9b98b8c7a33c4b65b9aebfe6a799e6d9</td>\n",
       "    </tr>\n",
       "    <tr>\n",
       "      <th>2</th>\n",
       "      <td>e2127556f4f64592b11af22de27a7932</td>\n",
       "      <td>offer received</td>\n",
       "      <td>0</td>\n",
       "      <td>0</td>\n",
       "      <td>2906b810c7d4411798c6938adc9daaa5</td>\n",
       "    </tr>\n",
       "    <tr>\n",
       "      <th>5</th>\n",
       "      <td>389bc3fa690240e798340f5a15918d5c</td>\n",
       "      <td>offer received</td>\n",
       "      <td>1</td>\n",
       "      <td>1</td>\n",
       "      <td>f19421c1d4aa40978ebb69ca19b0e20d</td>\n",
       "    </tr>\n",
       "    <tr>\n",
       "      <th>7</th>\n",
       "      <td>2eeac8d8feae4a8cad5a6af0499a211d</td>\n",
       "      <td>offer received</td>\n",
       "      <td>1</td>\n",
       "      <td>0</td>\n",
       "      <td>3f207df678b143eea3cee63160fa8bed</td>\n",
       "    </tr>\n",
       "    <tr>\n",
       "      <th>8</th>\n",
       "      <td>aa4862eba776480b8bb9c68455b8c2e1</td>\n",
       "      <td>offer received</td>\n",
       "      <td>1</td>\n",
       "      <td>1</td>\n",
       "      <td>0b1e1539f2cc45b7b9fa7c272da2e1d7</td>\n",
       "    </tr>\n",
       "    <tr>\n",
       "      <th>...</th>\n",
       "      <td>...</td>\n",
       "      <td>...</td>\n",
       "      <td>...</td>\n",
       "      <td>...</td>\n",
       "      <td>...</td>\n",
       "    </tr>\n",
       "    <tr>\n",
       "      <th>257882</th>\n",
       "      <td>d087c473b4d247ccb0abfef59ba12b0e</td>\n",
       "      <td>offer received</td>\n",
       "      <td>1</td>\n",
       "      <td>1</td>\n",
       "      <td>ae264e3637204a6fb9bb56bc8210ddfd</td>\n",
       "    </tr>\n",
       "    <tr>\n",
       "      <th>257883</th>\n",
       "      <td>cb23b66c56f64b109d673d5e56574529</td>\n",
       "      <td>offer received</td>\n",
       "      <td>0</td>\n",
       "      <td>0</td>\n",
       "      <td>2906b810c7d4411798c6938adc9daaa5</td>\n",
       "    </tr>\n",
       "    <tr>\n",
       "      <th>257884</th>\n",
       "      <td>6d5f3a774f3d4714ab0c092238f3a1d7</td>\n",
       "      <td>offer received</td>\n",
       "      <td>1</td>\n",
       "      <td>1</td>\n",
       "      <td>2298d6c36e964ae4a3e7e9706d1fb8c2</td>\n",
       "    </tr>\n",
       "    <tr>\n",
       "      <th>257885</th>\n",
       "      <td>9dc1421481194dcd9400aec7c9ae6366</td>\n",
       "      <td>offer received</td>\n",
       "      <td>1</td>\n",
       "      <td>1</td>\n",
       "      <td>ae264e3637204a6fb9bb56bc8210ddfd</td>\n",
       "    </tr>\n",
       "    <tr>\n",
       "      <th>257886</th>\n",
       "      <td>e4052622e5ba45a8b96b59aba68cf068</td>\n",
       "      <td>offer received</td>\n",
       "      <td>1</td>\n",
       "      <td>0</td>\n",
       "      <td>3f207df678b143eea3cee63160fa8bed</td>\n",
       "    </tr>\n",
       "  </tbody>\n",
       "</table>\n",
       "<p>66501 rows × 5 columns</p>\n",
       "</div>"
      ],
      "text/plain": [
       "                                  person           event  offer_viewed  \\\n",
       "0       78afa995795e4d85b5d9ceeca43f5fef  offer received             1   \n",
       "2       e2127556f4f64592b11af22de27a7932  offer received             0   \n",
       "5       389bc3fa690240e798340f5a15918d5c  offer received             1   \n",
       "7       2eeac8d8feae4a8cad5a6af0499a211d  offer received             1   \n",
       "8       aa4862eba776480b8bb9c68455b8c2e1  offer received             1   \n",
       "...                                  ...             ...           ...   \n",
       "257882  d087c473b4d247ccb0abfef59ba12b0e  offer received             1   \n",
       "257883  cb23b66c56f64b109d673d5e56574529  offer received             0   \n",
       "257884  6d5f3a774f3d4714ab0c092238f3a1d7  offer received             1   \n",
       "257885  9dc1421481194dcd9400aec7c9ae6366  offer received             1   \n",
       "257886  e4052622e5ba45a8b96b59aba68cf068  offer received             1   \n",
       "\n",
       "        offer_completed                          offer_id  \n",
       "0                     1  9b98b8c7a33c4b65b9aebfe6a799e6d9  \n",
       "2                     0  2906b810c7d4411798c6938adc9daaa5  \n",
       "5                     1  f19421c1d4aa40978ebb69ca19b0e20d  \n",
       "7                     0  3f207df678b143eea3cee63160fa8bed  \n",
       "8                     1  0b1e1539f2cc45b7b9fa7c272da2e1d7  \n",
       "...                 ...                               ...  \n",
       "257882                1  ae264e3637204a6fb9bb56bc8210ddfd  \n",
       "257883                0  2906b810c7d4411798c6938adc9daaa5  \n",
       "257884                1  2298d6c36e964ae4a3e7e9706d1fb8c2  \n",
       "257885                1  ae264e3637204a6fb9bb56bc8210ddfd  \n",
       "257886                0  3f207df678b143eea3cee63160fa8bed  \n",
       "\n",
       "[66501 rows x 5 columns]"
      ]
     },
     "execution_count": 45,
     "metadata": {},
     "output_type": "execute_result"
    }
   ],
   "source": [
    "offer\n"
   ]
  },
  {
   "cell_type": "code",
   "execution_count": 46,
   "metadata": {},
   "outputs": [
    {
     "data": {
      "text/html": [
       "<div>\n",
       "<style scoped>\n",
       "    .dataframe tbody tr th:only-of-type {\n",
       "        vertical-align: middle;\n",
       "    }\n",
       "\n",
       "    .dataframe tbody tr th {\n",
       "        vertical-align: top;\n",
       "    }\n",
       "\n",
       "    .dataframe thead th {\n",
       "        text-align: right;\n",
       "    }\n",
       "</style>\n",
       "<table border=\"1\" class=\"dataframe\">\n",
       "  <thead>\n",
       "    <tr style=\"text-align: right;\">\n",
       "      <th></th>\n",
       "      <th>person</th>\n",
       "      <th>event</th>\n",
       "      <th>offer_viewed</th>\n",
       "      <th>offer_completed</th>\n",
       "      <th>offer_id</th>\n",
       "      <th>reward</th>\n",
       "      <th>channels</th>\n",
       "      <th>difficulty</th>\n",
       "      <th>duration</th>\n",
       "      <th>offer_type</th>\n",
       "      <th>web</th>\n",
       "      <th>email</th>\n",
       "      <th>mobile</th>\n",
       "      <th>social</th>\n",
       "      <th>Viewed</th>\n",
       "      <th>Completed</th>\n",
       "      <th>Offered</th>\n",
       "    </tr>\n",
       "  </thead>\n",
       "  <tbody>\n",
       "    <tr>\n",
       "      <th>0</th>\n",
       "      <td>78afa995795e4d85b5d9ceeca43f5fef</td>\n",
       "      <td>offer received</td>\n",
       "      <td>1</td>\n",
       "      <td>1</td>\n",
       "      <td>9b98b8c7a33c4b65b9aebfe6a799e6d9</td>\n",
       "      <td>5</td>\n",
       "      <td>[web, email, mobile]</td>\n",
       "      <td>5</td>\n",
       "      <td>168</td>\n",
       "      <td>1</td>\n",
       "      <td>1</td>\n",
       "      <td>1</td>\n",
       "      <td>1</td>\n",
       "      <td>0</td>\n",
       "      <td>0</td>\n",
       "      <td>0</td>\n",
       "      <td>0</td>\n",
       "    </tr>\n",
       "    <tr>\n",
       "      <th>1</th>\n",
       "      <td>e2127556f4f64592b11af22de27a7932</td>\n",
       "      <td>offer received</td>\n",
       "      <td>0</td>\n",
       "      <td>0</td>\n",
       "      <td>2906b810c7d4411798c6938adc9daaa5</td>\n",
       "      <td>2</td>\n",
       "      <td>[web, email, mobile]</td>\n",
       "      <td>10</td>\n",
       "      <td>168</td>\n",
       "      <td>2</td>\n",
       "      <td>1</td>\n",
       "      <td>1</td>\n",
       "      <td>1</td>\n",
       "      <td>0</td>\n",
       "      <td>0</td>\n",
       "      <td>0</td>\n",
       "      <td>0</td>\n",
       "    </tr>\n",
       "    <tr>\n",
       "      <th>2</th>\n",
       "      <td>389bc3fa690240e798340f5a15918d5c</td>\n",
       "      <td>offer received</td>\n",
       "      <td>1</td>\n",
       "      <td>1</td>\n",
       "      <td>f19421c1d4aa40978ebb69ca19b0e20d</td>\n",
       "      <td>5</td>\n",
       "      <td>[web, email, mobile, social]</td>\n",
       "      <td>5</td>\n",
       "      <td>120</td>\n",
       "      <td>1</td>\n",
       "      <td>1</td>\n",
       "      <td>1</td>\n",
       "      <td>1</td>\n",
       "      <td>1</td>\n",
       "      <td>0</td>\n",
       "      <td>0</td>\n",
       "      <td>0</td>\n",
       "    </tr>\n",
       "    <tr>\n",
       "      <th>3</th>\n",
       "      <td>2eeac8d8feae4a8cad5a6af0499a211d</td>\n",
       "      <td>offer received</td>\n",
       "      <td>1</td>\n",
       "      <td>0</td>\n",
       "      <td>3f207df678b143eea3cee63160fa8bed</td>\n",
       "      <td>0</td>\n",
       "      <td>[web, email, mobile]</td>\n",
       "      <td>0</td>\n",
       "      <td>96</td>\n",
       "      <td>0</td>\n",
       "      <td>1</td>\n",
       "      <td>1</td>\n",
       "      <td>1</td>\n",
       "      <td>0</td>\n",
       "      <td>0</td>\n",
       "      <td>0</td>\n",
       "      <td>0</td>\n",
       "    </tr>\n",
       "    <tr>\n",
       "      <th>4</th>\n",
       "      <td>aa4862eba776480b8bb9c68455b8c2e1</td>\n",
       "      <td>offer received</td>\n",
       "      <td>1</td>\n",
       "      <td>1</td>\n",
       "      <td>0b1e1539f2cc45b7b9fa7c272da2e1d7</td>\n",
       "      <td>5</td>\n",
       "      <td>[web, email]</td>\n",
       "      <td>20</td>\n",
       "      <td>240</td>\n",
       "      <td>2</td>\n",
       "      <td>1</td>\n",
       "      <td>1</td>\n",
       "      <td>0</td>\n",
       "      <td>0</td>\n",
       "      <td>0</td>\n",
       "      <td>0</td>\n",
       "      <td>0</td>\n",
       "    </tr>\n",
       "    <tr>\n",
       "      <th>...</th>\n",
       "      <td>...</td>\n",
       "      <td>...</td>\n",
       "      <td>...</td>\n",
       "      <td>...</td>\n",
       "      <td>...</td>\n",
       "      <td>...</td>\n",
       "      <td>...</td>\n",
       "      <td>...</td>\n",
       "      <td>...</td>\n",
       "      <td>...</td>\n",
       "      <td>...</td>\n",
       "      <td>...</td>\n",
       "      <td>...</td>\n",
       "      <td>...</td>\n",
       "      <td>...</td>\n",
       "      <td>...</td>\n",
       "      <td>...</td>\n",
       "    </tr>\n",
       "    <tr>\n",
       "      <th>66496</th>\n",
       "      <td>d087c473b4d247ccb0abfef59ba12b0e</td>\n",
       "      <td>offer received</td>\n",
       "      <td>1</td>\n",
       "      <td>1</td>\n",
       "      <td>ae264e3637204a6fb9bb56bc8210ddfd</td>\n",
       "      <td>10</td>\n",
       "      <td>[email, mobile, social]</td>\n",
       "      <td>10</td>\n",
       "      <td>168</td>\n",
       "      <td>1</td>\n",
       "      <td>0</td>\n",
       "      <td>1</td>\n",
       "      <td>1</td>\n",
       "      <td>1</td>\n",
       "      <td>0</td>\n",
       "      <td>0</td>\n",
       "      <td>0</td>\n",
       "    </tr>\n",
       "    <tr>\n",
       "      <th>66497</th>\n",
       "      <td>cb23b66c56f64b109d673d5e56574529</td>\n",
       "      <td>offer received</td>\n",
       "      <td>0</td>\n",
       "      <td>0</td>\n",
       "      <td>2906b810c7d4411798c6938adc9daaa5</td>\n",
       "      <td>2</td>\n",
       "      <td>[web, email, mobile]</td>\n",
       "      <td>10</td>\n",
       "      <td>168</td>\n",
       "      <td>2</td>\n",
       "      <td>1</td>\n",
       "      <td>1</td>\n",
       "      <td>1</td>\n",
       "      <td>0</td>\n",
       "      <td>0</td>\n",
       "      <td>0</td>\n",
       "      <td>0</td>\n",
       "    </tr>\n",
       "    <tr>\n",
       "      <th>66498</th>\n",
       "      <td>6d5f3a774f3d4714ab0c092238f3a1d7</td>\n",
       "      <td>offer received</td>\n",
       "      <td>1</td>\n",
       "      <td>1</td>\n",
       "      <td>2298d6c36e964ae4a3e7e9706d1fb8c2</td>\n",
       "      <td>3</td>\n",
       "      <td>[web, email, mobile, social]</td>\n",
       "      <td>7</td>\n",
       "      <td>168</td>\n",
       "      <td>2</td>\n",
       "      <td>1</td>\n",
       "      <td>1</td>\n",
       "      <td>1</td>\n",
       "      <td>1</td>\n",
       "      <td>0</td>\n",
       "      <td>0</td>\n",
       "      <td>0</td>\n",
       "    </tr>\n",
       "    <tr>\n",
       "      <th>66499</th>\n",
       "      <td>9dc1421481194dcd9400aec7c9ae6366</td>\n",
       "      <td>offer received</td>\n",
       "      <td>1</td>\n",
       "      <td>1</td>\n",
       "      <td>ae264e3637204a6fb9bb56bc8210ddfd</td>\n",
       "      <td>10</td>\n",
       "      <td>[email, mobile, social]</td>\n",
       "      <td>10</td>\n",
       "      <td>168</td>\n",
       "      <td>1</td>\n",
       "      <td>0</td>\n",
       "      <td>1</td>\n",
       "      <td>1</td>\n",
       "      <td>1</td>\n",
       "      <td>0</td>\n",
       "      <td>0</td>\n",
       "      <td>0</td>\n",
       "    </tr>\n",
       "    <tr>\n",
       "      <th>66500</th>\n",
       "      <td>e4052622e5ba45a8b96b59aba68cf068</td>\n",
       "      <td>offer received</td>\n",
       "      <td>1</td>\n",
       "      <td>0</td>\n",
       "      <td>3f207df678b143eea3cee63160fa8bed</td>\n",
       "      <td>0</td>\n",
       "      <td>[web, email, mobile]</td>\n",
       "      <td>0</td>\n",
       "      <td>96</td>\n",
       "      <td>0</td>\n",
       "      <td>1</td>\n",
       "      <td>1</td>\n",
       "      <td>1</td>\n",
       "      <td>0</td>\n",
       "      <td>0</td>\n",
       "      <td>0</td>\n",
       "      <td>0</td>\n",
       "    </tr>\n",
       "  </tbody>\n",
       "</table>\n",
       "<p>66501 rows × 17 columns</p>\n",
       "</div>"
      ],
      "text/plain": [
       "                                 person           event  offer_viewed  \\\n",
       "0      78afa995795e4d85b5d9ceeca43f5fef  offer received             1   \n",
       "1      e2127556f4f64592b11af22de27a7932  offer received             0   \n",
       "2      389bc3fa690240e798340f5a15918d5c  offer received             1   \n",
       "3      2eeac8d8feae4a8cad5a6af0499a211d  offer received             1   \n",
       "4      aa4862eba776480b8bb9c68455b8c2e1  offer received             1   \n",
       "...                                 ...             ...           ...   \n",
       "66496  d087c473b4d247ccb0abfef59ba12b0e  offer received             1   \n",
       "66497  cb23b66c56f64b109d673d5e56574529  offer received             0   \n",
       "66498  6d5f3a774f3d4714ab0c092238f3a1d7  offer received             1   \n",
       "66499  9dc1421481194dcd9400aec7c9ae6366  offer received             1   \n",
       "66500  e4052622e5ba45a8b96b59aba68cf068  offer received             1   \n",
       "\n",
       "       offer_completed                          offer_id  reward  \\\n",
       "0                    1  9b98b8c7a33c4b65b9aebfe6a799e6d9       5   \n",
       "1                    0  2906b810c7d4411798c6938adc9daaa5       2   \n",
       "2                    1  f19421c1d4aa40978ebb69ca19b0e20d       5   \n",
       "3                    0  3f207df678b143eea3cee63160fa8bed       0   \n",
       "4                    1  0b1e1539f2cc45b7b9fa7c272da2e1d7       5   \n",
       "...                ...                               ...     ...   \n",
       "66496                1  ae264e3637204a6fb9bb56bc8210ddfd      10   \n",
       "66497                0  2906b810c7d4411798c6938adc9daaa5       2   \n",
       "66498                1  2298d6c36e964ae4a3e7e9706d1fb8c2       3   \n",
       "66499                1  ae264e3637204a6fb9bb56bc8210ddfd      10   \n",
       "66500                0  3f207df678b143eea3cee63160fa8bed       0   \n",
       "\n",
       "                           channels  difficulty  duration  offer_type  web  \\\n",
       "0              [web, email, mobile]           5       168           1    1   \n",
       "1              [web, email, mobile]          10       168           2    1   \n",
       "2      [web, email, mobile, social]           5       120           1    1   \n",
       "3              [web, email, mobile]           0        96           0    1   \n",
       "4                      [web, email]          20       240           2    1   \n",
       "...                             ...         ...       ...         ...  ...   \n",
       "66496       [email, mobile, social]          10       168           1    0   \n",
       "66497          [web, email, mobile]          10       168           2    1   \n",
       "66498  [web, email, mobile, social]           7       168           2    1   \n",
       "66499       [email, mobile, social]          10       168           1    0   \n",
       "66500          [web, email, mobile]           0        96           0    1   \n",
       "\n",
       "       email  mobile  social  Viewed  Completed  Offered  \n",
       "0          1       1       0       0          0        0  \n",
       "1          1       1       0       0          0        0  \n",
       "2          1       1       1       0          0        0  \n",
       "3          1       1       0       0          0        0  \n",
       "4          1       0       0       0          0        0  \n",
       "...      ...     ...     ...     ...        ...      ...  \n",
       "66496      1       1       1       0          0        0  \n",
       "66497      1       1       0       0          0        0  \n",
       "66498      1       1       1       0          0        0  \n",
       "66499      1       1       1       0          0        0  \n",
       "66500      1       1       0       0          0        0  \n",
       "\n",
       "[66501 rows x 17 columns]"
      ]
     },
     "execution_count": 46,
     "metadata": {},
     "output_type": "execute_result"
    }
   ],
   "source": [
    "pd.merge(offer, portfolio_df, how='left')"
   ]
  },
  {
   "cell_type": "code",
   "execution_count": null,
   "metadata": {},
   "outputs": [],
   "source": [
    "def findViewed(df, offer_id):\n",
    "    result = False\n",
    "    if (df.loc[df.offer_id == offer_id].offer_viewed ==1).any():\n",
    "        result = True\n",
    "    \n",
    "    return result\n",
    "\n",
    "transcript_df_person = transcript_df.groupby('person')\n",
    "\n",
    "\n",
    "### lots of heavy processing down here\n",
    "for key, item in transcript_df_person:\n",
    "    print(f'The customer id is {key}')\n",
    "    tmp = transcript_df_person.get_group(key)\n",
    "    count = 0\n",
    "    vcount = 0\n",
    "    for index, row in tmp.iterrows():\n",
    "        if row.offer_completed == 1:\n",
    "            search_string = row.offer_id\n",
    "            if findViewed(tmp, search_string) == True:\n",
    "                print(f'Offer {search_string} is completed for customer {key}')\n",
    "                count = count + 1\n",
    "                portfolio_df.loc[portfolio_df.id == search_string,'Complete'] = portfolio_df.loc[portfolio_df.id == search_string,'Complete'] + 1\n",
    "            else:\n",
    "                ### correction\n",
    "                transcript_df.loc[index].offer_completed = 0\n",
    "        if row.offer_viewed == 1:\n",
    "            search_string = row.offer_id\n",
    "            # the key is the advert \n",
    "            portfolio_df.loc[portfolio_df.id == search_string,'Viewed'] = portfolio_df.loc[portfolio_df.id == key,'Viewed'] + 1\n",
    "    \n",
    "    \n",
    "    profile_df.loc[ profile_df.id == key,'Completion'] = count\n",
    "    profile_df.loc[ profile_df.id == key,'Viewed'] = tmp.offer_viewed.sum()\n",
    "    profile_df.loc[ profile_df.id == key,'Offered'] = tmp.offer_received.sum()\n",
    "    \n",
    "    "
   ]
  },
  {
   "cell_type": "code",
   "execution_count": null,
   "metadata": {},
   "outputs": [],
   "source": [
    "transcript_df_offer = transcript_df[transcript_df['transaction']==0]\n",
    "\n",
    "transcript_df_id = transcript_df_offer.groupby('offer_id')\n",
    "\n",
    "for key, item in transcript_df_id:\n",
    "    tmp = transcript_df_id.get_group(key)\n",
    "#     print(f'offer id {key} has the  {tmp.offer_received.sum()} offered')\n",
    "    portfolio_df.loc[portfolio_df.id== key, \"Offered\"] = tmp.offer_received.sum()\n",
    "    portfolio_df.loc[portfolio_df.id== key, \"Viewed\"]  = tmp.offer_viewed.sum()  \n",
    "    "
   ]
  },
  {
   "cell_type": "code",
   "execution_count": null,
   "metadata": {},
   "outputs": [],
   "source": [
    "print(portfolio_df)"
   ]
  },
  {
   "cell_type": "code",
   "execution_count": null,
   "metadata": {},
   "outputs": [],
   "source": [
    "print(profile_df)"
   ]
  },
  {
   "cell_type": "markdown",
   "metadata": {},
   "source": [
    "Finally we would want to create another DataFrame called offer which is based on every single offer made in the 10 campaign. The dataframe would include information from the 3 dataframe: \n",
    "<ul>\n",
    "    <li> portfolio\n",
    "    <li> profile\n",
    "    <li> transaction\n",
    "</ul>\n",
    "\n",
    "From transaction data frame, we would pull the following rows that have recieved the offer and the following columns\n",
    "<ul>\n",
    "    <li>person\n",
    "    <li>offer_id\n",
    "    <li>offer_viewed \n",
    "    <li>offer_completed\n",
    "    <li>offer_type\n",
    "    <li>amount\n",
    "</ul>\n",
    "\n",
    "From portfolio data frame, we would pull the following columns\n",
    "<ul>\n",
    "     <li>reward\n",
    "     <li>difficulty \n",
    "     <li>duration  \n",
    "     <li>web\n",
    "     <li>mobile\n",
    "     <li>social\n",
    "</ul>\n",
    "\n",
    "From profile data frame, we would pull the following columns\n",
    "<ul>\n",
    "     <li>gender\n",
    "     <li>age \n",
    "     <li>income  \n",
    "     <li>membership\n",
    "</ul>\n"
   ]
  },
  {
   "cell_type": "code",
   "execution_count": null,
   "metadata": {},
   "outputs": [],
   "source": [
    "\n"
   ]
  },
  {
   "cell_type": "markdown",
   "metadata": {},
   "source": [
    "## Exploratory Data Analysis"
   ]
  },
  {
   "cell_type": "markdown",
   "metadata": {},
   "source": [
    "##### What is the age, gender and income demographics of the customer group? \n",
    "<ul>\n",
    "    <li>Who formed the majority of the Starbucks customer base ?\n",
    "    <li>How should we divide up the customer into grouping for later analysis?"
   ]
  },
  {
   "cell_type": "code",
   "execution_count": null,
   "metadata": {},
   "outputs": [],
   "source": [
    "plt.subplots(figsize=(20, 14));\n",
    "\n",
    "### Length of Membership\n",
    "plt.subplot(2,2,1)\n",
    "plt.title(\"Distribution of Membership Duration\\n\",\n",
    "         fontweight =\"bold\")\n",
    "num_bins = 6\n",
    "n, bins, patches = plt.hist(profile_df['membership'], num_bins, \n",
    "                            color ='tab:blue',\n",
    "                            alpha = 0.8)\n",
    "\n",
    "plt.xlabel('Years of Being Member', fontweight =\"bold\")\n",
    "plt.ylabel('Customer', fontweight =\"bold\")\n",
    "\n",
    "\n",
    "### Age Distribution\n",
    "plt.subplot(2,2,2)\n",
    "plt.title('Histogram Plot of Customer Age Range\\n',\n",
    "          fontweight =\"bold\")\n",
    "num_bins = 12\n",
    "n, bins, patches = plt.hist(profile_df['age'], num_bins, \n",
    "                            color ='tab:blue',\n",
    "                            alpha = 0.8)\n",
    "\n",
    "plt.xlabel('Age', fontweight =\"bold\")\n",
    "plt.ylabel('Customers', fontweight =\"bold\")\n",
    "  \n",
    "### Income Distribution\n",
    "plt.subplot(2,2,3)\n",
    "plt.title(\"Income Distribution\\n\", fontweight =\"bold\")\n",
    "\n",
    "num_bins = 6\n",
    "n, bins, patches= plt.hist(profile_df['income'], num_bins, \n",
    "                            color ='tab:blue',\n",
    "                            alpha = 0.8)\n",
    "plt.xlabel('Income', fontweight =\"bold\")\n",
    "plt.ylabel('Customers', fontweight =\"bold\")\n",
    "\n",
    "### Gender Distribution\n",
    "plt.subplot(2,2,4)\n",
    "gender_m = profile_df[profile_df['gender'] == 'M'].gender.count()\n",
    "gender_f = profile_df[profile_df['gender'] == 'F'].gender.count()\n",
    "gender = [gender_m , gender_f ]\n",
    "labels=['Male', 'Female']\n",
    "\n",
    "plt.title(\"Gender Distribution\", fontweight =\"bold\")\n",
    "plt.pie(gender, labels=labels,  labeldistance=0.6, textprops={'fontsize': 18})\n",
    "\n",
    "plt.show()"
   ]
  },
  {
   "cell_type": "markdown",
   "metadata": {},
   "source": [
    "In terms of gender, there is more men in the customer group than women. At the same time, it is interesting that most of the customer in the group seem to be around 40-70, peaking round 50+, a particularly mature customer group. It might be because the campaign intentionally target this group of mature customer, being naturally high power spending group(due to age). The mode of income is around 60000+\n",
    "\n",
    "Dividing the profile dataframe into 3 different income group, namely:\n",
    "<ol> \n",
    "    <li> from 53000 and below \n",
    "    <li> above 53000 and below 74000\n",
    "    <li> above 74000\n",
    "</ol>\n",
    "    \n",
    "Let us see the distribution of gender and age (which we shall use the quartile percentile age  as describe in the dataframe) within this group\n"
   ]
  },
  {
   "cell_type": "code",
   "execution_count": null,
   "metadata": {},
   "outputs": [],
   "source": [
    "plt.subplots(figsize=(20, 8))\n",
    "\n",
    "income_1  = profile_df.loc[profile.income <= 53000]\n",
    "income_2  = profile_df.loc[(profile.income > 53000) & (profile.income <= 73000)]\n",
    "income_3  = profile_df.loc[profile.income > 73000]\n",
    "\n",
    "### Gender within the group\n",
    "count_grp1   =  income_1.gender.count()\n",
    "count_grp2   =  income_2.gender.count()\n",
    "count_grp3   =  income_3.gender.count()\n",
    "\n",
    "m_count_grp1 =  income_1.loc[income_1.gender== 'M'].gender.count()\n",
    "f_count_grp1 =  income_1.loc[income_1.gender== 'F'].gender.count()\n",
    "m_count_grp2 =  income_2.loc[income_2.gender== 'M'].gender.count()\n",
    "f_count_grp2 =  income_2.loc[income_2.gender== 'F'].gender.count()\n",
    "m_count_grp3 =  income_3.loc[income_3.gender== 'M'].gender.count()\n",
    "f_count_grp3 =  income_3.loc[income_3.gender== 'F'].gender.count()\n",
    "\n",
    "income =[m_count_grp1, f_count_grp1, count_grp1,\n",
    "         m_count_grp2, f_count_grp2, count_grp2,\n",
    "         m_count_grp3, f_count_grp3, count_grp3]\n",
    "index  =['m_count_grp1', 'f_count_grp1', 'count_grp1',\n",
    "         'm_count_grp2', 'f_count_grp2', 'count_grp2',\n",
    "         'm_count_grp3', 'f_count_grp3', 'count_grp3']\n",
    "\n",
    "plt.subplot(1,2,1)\n",
    "\n",
    "color  = ['tab:blue', 'tab:pink', 'tab:green',\n",
    "          'tab:blue', 'tab:pink', 'tab:green',\n",
    "          'tab:blue', 'tab:pink', 'tab:green']\n",
    "\n",
    "plt.title(\"Distribution of Gender Among The Income Group\\n\",\n",
    "         fontweight =\"bold\")\n",
    "\n",
    "plt.ylabel(\"No of People\")\n",
    "plt.xlabel(\"Income group\")\n",
    "\n",
    "plt.bar(index, height=income, color = color)\n",
    "\n",
    "plt.xticks(rotation=45)\n",
    "\n",
    "### Age within the group\n",
    "count_1Q_grp1   =  income_1.loc[income_1.age <= 45].age.count()\n",
    "count_2Q_grp1   =  income_1.loc[(income_1.age > 45) & (income_1.age <= 58)].age.count()\n",
    "count_3Q_grp1   =  income_1.loc[(income_1.age > 58) & (income_1.age <= 73)].age.count()\n",
    "count_4Q_grp1   =  income_1.loc[income_1.age >73].age.count()\n",
    "count_1Q_grp2   =  income_2.loc[income_2.age <= 45].age.count()\n",
    "count_2Q_grp2   =  income_2.loc[(income_2.age > 45) & (income_2.age <= 58)].age.count()\n",
    "count_3Q_grp2   =  income_2.loc[(income_2.age > 58) & (income_2.age <= 73)].age.count()\n",
    "count_4Q_grp2   =  income_2.loc[income_2.age >73].age.count()\n",
    "count_1Q_grp3   =  income_3.loc[income_3.age <= 45].age.count()\n",
    "count_2Q_grp3   =  income_3.loc[(income_3.age > 45) & (income_3.age <= 58)].age.count()\n",
    "count_3Q_grp3   =  income_3.loc[(income_3.age > 58) & (income_3.age <= 73)].age.count()\n",
    "count_4Q_grp3   =  income_3.loc[income_3.age >73].age.count()\n",
    "\n",
    "\n",
    "plt.subplot(1,2,2)\n",
    "\n",
    "color  = ['tab:orange', 'tab:purple', 'tab:olive', \"tab:cyan\",\n",
    "          'tab:orange', 'tab:purple', 'tab:olive', \"tab:cyan\",\n",
    "          'tab:orange', 'tab:purple', 'tab:olive', \"tab:cyan\"]\n",
    "income =[count_1Q_grp1, count_2Q_grp1, count_3Q_grp1, count_4Q_grp1, \n",
    "         count_1Q_grp2, count_2Q_grp2, count_3Q_grp2, count_4Q_grp2,\n",
    "         count_1Q_grp3, count_2Q_grp3, count_3Q_grp3, count_4Q_grp3]\n",
    "\n",
    "index  =['count_1Q_grp1', 'count_2Q_grp1','count_3Q_grp1', 'count_4Q_grp1',\n",
    "         'count_1Q_grp2', 'count_2Q_grp2', 'count_3Q_grp2', 'count_4Q_grp2',\n",
    "         'count_1Q_grp3', 'count_2Q_grp3', 'count_3Q_grp3', 'count_4Q_grp3',]\n",
    "\n",
    "plt.bar(index, height=income, color = color)\n",
    "plt.xticks(rotation=45)\n",
    "\n",
    "plt.title(\"Distribution of Customer Age Among The Income Group\\n\",\n",
    "         fontweight =\"bold\")\n",
    "\n",
    "plt.ylabel(\"No of People\")\n",
    "plt.xlabel(\"Customer Age group\")\n",
    "plt.show()"
   ]
  },
  {
   "cell_type": "markdown",
   "metadata": {},
   "source": [
    "Let us first talk about the age grouping within the income group. \n",
    "\n",
    "Observation\n",
    "<ul>\n",
    "    <li>As expected, the youngest of the group dominates the lower income (as probably they have not been in workforce for too long) and they almost twice as many when compared to the rest.\n",
    "    <li>The rest of the age-group exhibit increasing number of people when the income goes higher. \n",
    "    <li>There is almost no difference between the number of people in the 3 income group of age group 45-58 and 58-73.        \n",
    "</ul>\n",
    "\n",
    "For the income plot,  there is more males than female are found in the lower and mid-income level but the trend reverse for the high-level income group. This may be due to that at higher income group, it will require typically less manual and technical work which male could excel in but rather in sales and management jobs which females excel in\n"
   ]
  },
  {
   "cell_type": "code",
   "execution_count": null,
   "metadata": {},
   "outputs": [],
   "source": [
    "def is_equal_variance(d1, d2, alpha):\n",
    "    \"\"\"\n",
    "    Method for performing stats.levene test on two input samples. \n",
    "    As returns we get a boolian if sample variances are equal.\n",
    "\n",
    "    Args:\n",
    "        d1, d2 (pd.DataSeries): input sample data\n",
    "        alpha (float): alpha value as proportion \n",
    "\n",
    "    Returns:\n",
    "        boolian: true if variances between input distributions are equal (p > alpha), false otherwise (p <= alpha)\n",
    "        W: test statistic as float\n",
    "        p: p value for the test\n",
    "    \"\"\"\n",
    "    ### check if variances are equal   \n",
    "    W, p = stats.levene(d1, d2)\n",
    "    if p <= alpha:\n",
    "        print(f\"group variances unequal: W = {W:.4f}, p = {p:.4f}\")\n",
    "        return False        \n",
    "    else:\n",
    "        print(f\"group variances equal: W = {W:.4f}, p = {p:.4f}\")\n",
    "        return True\n",
    "\n",
    "def are_normal(d1, d2, alpha):\n",
    "    \"\"\"\n",
    "    Method for performing stats.normaltest on two input samples and returns boolian if sample distibutions are normal \n",
    "    As return we get a boolian if sample distibutions are normal.\n",
    "\n",
    "    Args:\n",
    "        d1, d2 (pd.DataSeries): input sample data\n",
    "        alpha (float): alpha value as proportion \n",
    "\n",
    "    Returns:\n",
    "        boolian: true if sample distributions are normal (p > alpha), false otherwise (p <= alpha)\n",
    "    \"\"\"\n",
    "    ### check if sample distributions are normal   \n",
    "    for d in [d1, d2]:\n",
    "        k2, p = stats.normaltest(d)\n",
    "        if p <= alpha:\n",
    "            print(f\"sample distribution not normal\")\n",
    "            return False\n",
    "    return True\n",
    "\n",
    "def t_test(d1, d2, alpha):\n",
    "    \"\"\"\n",
    "    Method for performing t-test on two sample distributions:\n",
    "        Welch's t-test for unequal variance\n",
    "        independent t-test for equal variance \n",
    "    For non-normal distributions of groups, sample size has to be of large size (appr. > 50) \n",
    "    to get a valid t-test on a non normal distribution.\n",
    "        \n",
    "    Args:\n",
    "        d1, d2 (pd.DataSeries): input sample data\n",
    "        alpha (float): alpha value as proportion \n",
    "    \n",
    "    Returns:\n",
    "        statistic (float): test statistic\n",
    "        p (float): p value for marginal significance\n",
    "        interpretation (string): interpretation of statistical significance for the two means\n",
    "    \"\"\"\n",
    "    ### check of equal variance\n",
    "    equal_var = is_equal_variance(d1, d2, alpha)\n",
    "    \n",
    "    ### check if group values are normally distributed\n",
    "    normal = are_normal(d1, d2, alpha)    \n",
    "    \n",
    "    ### select appropriate test\n",
    "    if not equal_var:\n",
    "        print(\"Welch's t-test on non-normal distributed samples with unequal variances:\")\n",
    "        statistic, p = stats.ttest_ind(d1, d2, equal_var = equal_var)\n",
    "    else:\n",
    "        print(\"Independent t-test:\")\n",
    "        statistic, p = stats.ttest_ind(d1, d2, equal_var = equal_var) \n",
    "        \n",
    "    ### t-test interpretation \n",
    "    significant = \"statistically significant\" if p <= alpha else \"not statistically significant\"\n",
    "    interpretation = f\"mean difference between groups is {significant}.\"\n",
    "    \n",
    "    return statistic, p, interpretation \n",
    "\n",
    "def compare_group_means(d1, d2, alpha):\n",
    "    \"\"\"\n",
    "    Method for performing sample means comparison with statistics summary of samples, \n",
    "    mean difference calulation, effect size test and t-test. \n",
    "    \n",
    "    Args:\n",
    "        d1, d2 (pd.DataSeries): input sample data\n",
    "        alpha (float): alpha value as proportion \n",
    "    \n",
    "    Returns: \n",
    "        print statements for statistics of samples, mean difference calulation, effect size test and t-test\n",
    "    \"\"\"\n",
    "    \n",
    "    ### aggregate statistics\n",
    "    print (\"sample statistics:\")\n",
    "    d1_describe = d1.agg([\"count\", \"mean\", \"median\", \"std\"])\n",
    "    d2_describe = d2.agg([\"count\", \"mean\", \"median\", \"std\"])\n",
    "    display(d1_describe, d2_describe)\n",
    "    \n",
    "    ### calculate difference between group means\n",
    "    diff = d1.mean() - d2.mean()\n",
    "    diffp = 100.0 * abs(diff) / d1.mean()\n",
    "    print(f\"mean difference between groups: {diff:.4f}({diffp:.2f}%)\\n\")\n",
    "    \n",
    "    ### Perform t-test\n",
    "    statistic, p, interpretation = t_test(d1, d2, alpha)\n",
    "    print(f\"statistic = {statistic:.4f} | p-value = {p:.4f} =>> {interpretation}\")\n",
    "\n",
    "# def create_group(df, rf, value):\n",
    "#     \"\"\"\n",
    "#     for group creation, namely success and failure\n",
    "    \n",
    "#     Args:\n",
    "#         df (pd.DataSeries): the data dataframe to get the view and complete \n",
    "#         rf (pd.DataSeries): the ref dataframe to get the value \n",
    "#         value (column name of panda series): of the reference\n",
    "    \n",
    "#     Returns: \n",
    "#         two groups, success and failure dataframe\n",
    "#     \"\"\"    \n",
    "#     list_s = []\n",
    "#     list_f = []\n",
    "    \n",
    "#     for index, item in df:\n",
    "        \n",
    "    \n",
    "#     return success, fail"
   ]
  },
  {
   "cell_type": "markdown",
   "metadata": {},
   "source": [
    "Comparing the 4 main client side factors namely (age, income, gender, length of membership)"
   ]
  },
  {
   "cell_type": "code",
   "execution_count": null,
   "metadata": {},
   "outputs": [],
   "source": []
  },
  {
   "cell_type": "markdown",
   "metadata": {},
   "source": [
    "## Offer"
   ]
  },
  {
   "cell_type": "markdown",
   "metadata": {},
   "source": [
    "###### Which is the most effective channel in dispensing out information?"
   ]
  },
  {
   "cell_type": "markdown",
   "metadata": {},
   "source": [
    "First let us have an overview of the dataframe"
   ]
  },
  {
   "cell_type": "code",
   "execution_count": null,
   "metadata": {},
   "outputs": [],
   "source": [
    "plt.subplots(figsize=(20, 12))\n",
    "\n",
    "value = []\n",
    "for i in range(0,portfolio.shape[0]):\n",
    "    value.append(1.0)\n",
    "    value.append(portfolio_df.Viewed.iloc[i] /portfolio_df.Offered.iloc[i])\n",
    "    value.append(portfolio_df.Complete.iloc[i] /portfolio_df.Offered.iloc[i])\n",
    "\n",
    "color = [] \n",
    "for i in range(0,portfolio.shape[0]):\n",
    "    color.append(\"tab:olive\")\n",
    "    color.append(\"tab:orange\")\n",
    "    color.append(\"tab:cyan\")\n",
    "    \n",
    "index = []\n",
    "for i in range(0,portfolio.shape[0]):\n",
    "    index.append(\"campaign_\" + str(i) + \"_offered\")\n",
    "    index.append(\"campaign_\" + str(i) + \"_viewed\")\n",
    "    index.append(\"campaign_\" + str(i) + \"_completed\")\n",
    "\n",
    "plt.bar(index, height=value, color = color)\n",
    "\n",
    "plt.xticks(rotation=45)\n",
    "\n",
    "plt.title(\"Distribution of Customer Age Among The Income Group\\n\",\n",
    "         fontweight =\"bold\")\n",
    "\n",
    "plt.ylabel(\"No of People\")\n",
    "plt.xlabel(\"Customer Age group\")\n",
    "plt.show()\n",
    "\n",
    "success  = pd.DataFrame()\n",
    "success['offer_type'] = portfolio_df.offer_type\n",
    "success['difficulty'] = portfolio_df.difficulty\n",
    "success['reward']     = portfolio_df.reward\n",
    "success['duration']   = portfolio_df.duration\n",
    "success['complete']   = value[2::3]\n",
    "\n",
    "print(success)\n"
   ]
  },
  {
   "cell_type": "markdown",
   "metadata": {},
   "source": [
    "Campaign 6,7,9, namely offer types: {discount, discount, bogo}, have above 60% completion rate. \n",
    "\n",
    "Observation\n",
    "<ul>\n",
    "    <li> At first glance, it seem that difficulty matters most in almost all types of offer. The more difficult it is, the lower is the completion rate,no matter the reward and time duration of the reward\n",
    "    <li> The type of offer seems to rank the next in the terms of effect, with discount offer being higher\n",
    "    <li> The influence of rewards seem to matter after next\n",
    "    <li> Duration seem to matter the least in all of this effect\n",
    "</ul>\n",
    "\n",
    "But is that so?"
   ]
  },
  {
   "cell_type": "markdown",
   "metadata": {},
   "source": [
    "Let us go back to the question in which media channel offers the greatest attention. We would say media has the effect of bring attention to, ie in this case for customer to view the offer. Whether to complete it, would depend on the reward, difficulty of the offer and nature of customer"
   ]
  },
  {
   "cell_type": "code",
   "execution_count": null,
   "metadata": {},
   "outputs": [],
   "source": [
    "plt.subplots(figsize=(8, 4))\n",
    "\n",
    "influence_web    = (portfolio_df.Viewed * portfolio_df.web).sum() / (portfolio_df.Offered * portfolio_df.web).sum()  * 100\n",
    "influence_mobile = (portfolio_df.Viewed * portfolio_df.mobile).sum() / (portfolio_df.Offered * portfolio_df.mobile).sum() * 100\n",
    "influence_social = (portfolio_df.Viewed * portfolio_df.social).sum() / (portfolio_df.Offered * portfolio_df.social).sum() * 100\n",
    "\n",
    "influence = [influence_web, influence_mobile, influence_social] \n",
    "label = ['influence_web', 'influence_mobile', 'influence_social']\n",
    "\n",
    "color = ['tab:cyan', 'tab:orange', 'tab:olive']\n",
    "\n",
    "plt.xticks(rotation=45)\n",
    "plt.title('Plot of Viewing Rate (%) of Various Media Channel')\n",
    "\n",
    "plt.bar(label, influence, color=color)\n",
    "\n",
    "### Lastly to show\n",
    "plt.show()"
   ]
  },
  {
   "cell_type": "markdown",
   "metadata": {},
   "source": [
    "Not surprising, customer will respond more to their social media compared to other form of communication. This maybe because of social media give a more human touch and directed advertisement effect compared to mobile. Mobile, though personal, do not give one the personal touch"
   ]
  },
  {
   "cell_type": "code",
   "execution_count": null,
   "metadata": {},
   "outputs": [],
   "source": [
    "profile_df_m1 = profile_df.loc[ (profile_df.gender =='M') & (profile_df.age <= 45) ]\n",
    "profile_df_f1 = profile_df.loc[ (profile_df.gender =='F') & (profile_df.age <= 45) ]\n",
    "profile_df_m2 = profile_df.loc[(profile_df.gender =='M') & ( (profile_df.age > 45) & (profile_df.age <= 58))  ]\n",
    "profile_df_f2 = profile_df.loc[ (profile_df.gender =='F') & ( (profile_df.age > 45) & (profile_df.age <= 58))  ]\n",
    "profile_df_m3 = profile_df.loc[(profile_df.gender =='M') & ( (profile_df.age > 58) & (profile_df.age <= 73))]\n",
    "profile_df_f3 = profile_df.loc[ (profile_df.gender =='F') & ( (profile_df.age > 58) & (profile_df.age <= 73)) ]\n",
    "profile_df_m4 = profile_df.loc[(profile_df.gender =='M') & (profile_df.age > 73)]\n",
    "profile_df_f4 = profile_df.loc[ (profile_df.gender =='F') & (profile_df.age > 73) ]\n",
    "\n",
    "ratio_m1 = profile_df_m1.Viewed.sum() / profile_df_m1.Offered.sum()  * 100\n",
    "ratio_f1 = profile_df_f1.Viewed.sum() / profile_df_f1.Offered.sum()  * 100\n",
    "ratio_m2 = profile_df_m2.Viewed.sum() / profile_df_m2.Offered.sum()  * 100\n",
    "ratio_f2 = profile_df_f2.Viewed.sum() / profile_df_f2.Offered.sum()  * 100\n",
    "ratio_m3 = profile_df_m3.Viewed.sum() / profile_df_m3.Offered.sum()  * 100\n",
    "ratio_f3 = profile_df_f3.Viewed.sum() / profile_df_f3.Offered.sum()  * 100\n",
    "ratio_m4 = profile_df_m4.Viewed.sum() / profile_df_m4.Offered.sum()  * 100\n",
    "ratio_f4 = profile_df_f4.Viewed.sum() / profile_df_f4.Offered.sum()  * 100\n",
    "\n",
    "influence = [ratio_m1, ratio_f1, \n",
    "             ratio_m2, ratio_f2,\n",
    "             ratio_m3, ratio_f3, \n",
    "             ratio_m4, ratio_f4] \n",
    "label    =   ['ratio_m1', 'ratio_f1', \n",
    "             'ratio_m2', 'ratio_f2',\n",
    "             'ratio_m3', 'ratio_f3', \n",
    "             'ratio_m4', 'ratio_f4'] \n",
    "\n",
    "color = ['tab:cyan', 'tab:orange',\n",
    "        'tab:cyan', 'tab:orange',\n",
    "        'tab:cyan', 'tab:orange',\n",
    "        'tab:cyan', 'tab:orange']\n",
    "\n",
    "plt.xticks(rotation=45)\n",
    "plt.title('\\n\\n Plot of Viewing Rate (%) of Various Media Channel ')\n",
    "\n",
    "plt.bar(label, influence, color=color)"
   ]
  },
  {
   "cell_type": "markdown",
   "metadata": {},
   "source": [
    "The number of offers for each campaign is largely the same. So we can say, it is safe to compare between each "
   ]
  },
  {
   "cell_type": "markdown",
   "metadata": {},
   "source": [
    "It seem to show that social media has great influence on the client. Most of the client actually responded to the campaign when it is hosted on social media"
   ]
  },
  {
   "cell_type": "markdown",
   "metadata": {},
   "source": [
    "###### Which group (age, income, membership length) of customers appear to be more responsive towards the promotion"
   ]
  },
  {
   "cell_type": "markdown",
   "metadata": {},
   "source": [
    "The customer response for Young Male is particularly poor. While the rest of the group exhibits at least 38% of offer uptake rate, Young Male group seem to have relatively 'poorer' uptake rate at about 28.2%"
   ]
  },
  {
   "cell_type": "markdown",
   "metadata": {},
   "source": [
    "###### Is there link between the offer given and the target group?"
   ]
  },
  {
   "cell_type": "code",
   "execution_count": null,
   "metadata": {},
   "outputs": [],
   "source": []
  },
  {
   "cell_type": "markdown",
   "metadata": {},
   "source": [
    "###### Which type of promotional offer most appeal to which group of customer?"
   ]
  },
  {
   "cell_type": "markdown",
   "metadata": {},
   "source": [
    "## Modeling and Evaluation"
   ]
  },
  {
   "cell_type": "markdown",
   "metadata": {},
   "source": [
    "###### Can we build a recommendation engine to recommend promotional offer with good uptake rate to new customers based on their demographical data age, income, registration date and gender? "
   ]
  },
  {
   "cell_type": "markdown",
   "metadata": {},
   "source": [
    "Selecting the "
   ]
  },
  {
   "cell_type": "markdown",
   "metadata": {},
   "source": [
    "Selection of Features\n",
    "\n",
    "There is a plethora of features within the dataset we would need to fish out the most relevant features in our studies"
   ]
  },
  {
   "cell_type": "code",
   "execution_count": null,
   "metadata": {},
   "outputs": [],
   "source": [
    "plt.figure(figsize=(9, 6))\n",
    "### Plot Heatmap with feature multicollinearity\n",
    "sns.heatmap(master_offer2.corr(), annot = True, vmin = -1, vmax = 1, fmt= \".2f\", cmap = \"coolwarm\")\n",
    "plt.title(\"Feature Multicollinearity - master_offer1\", fontsize = \"x-large\")\n",
    "plt.xticks(rotation = 45, ha = \"right\");"
   ]
  },
  {
   "cell_type": "markdown",
   "metadata": {},
   "source": []
  },
  {
   "cell_type": "code",
   "execution_count": null,
   "metadata": {},
   "outputs": [],
   "source": [
    "def classifier(classifier, offer_id, X_train, X_test, y_train, y_test):\n",
    "    \"\"\"\n",
    "    Method for training classifier and predicting on test set. \n",
    "    Output are: the trained classifier and the evaluation metrics accuracy and f1-score\n",
    "\n",
    "    Args:\n",
    "        classifier: classifier ith parameters, if procurable including GridSearchCV for parameter tuning\n",
    "        offer_id (int): integer with offer_id according master dataframe\n",
    "        X_train (pd.DataFrame): DataFrame with feature columns of train set\n",
    "        y_train (pd.DataSeries): Series with target column of train set\n",
    "        X_test (pd.DataFrame): DataFrame with feature columns of test set\n",
    "        y_test (pd.DataSeries): Series with target column of test set\n",
    "\n",
    "    Returns:\n",
    "        clf: trainied classifier\n",
    "        accuracy (float): accuracy score \n",
    "        f1 (float): f1-score\n",
    "        recall (float): recall score\n",
    "        precision (float): precision score\n",
    "    \"\"\"\n",
    "    ### train classifier\n",
    "    clf.fit(X_train, y_train)\n",
    "    \n",
    "    ### predict on test set\n",
    "    pred = clf.predict(X_test)\n",
    "    ### accuracy score\n",
    "    accuracy = round(accuracy_score(y_test, pred)*100,2)\n",
    "    ### f1 score\n",
    "    f1 = round(f1_score(y_test, pred)*100,2)\n",
    "    ### recall score\n",
    "    recall = round(recall_score(y_test, pred)*100,2)\n",
    "    ### precision score\n",
    "    precision = round(precision_score(y_test, pred)*100,2)\n",
    "    \n",
    "    print(\"#######################################################\")\n",
    "    ### confusion matrix\n",
    "    cm = confusion_matrix(y_test, pred)\n",
    "    print(\"Offer {} - confusion matrix:\".format(offer_id))\n",
    "    print(cm, \"\\n\")\n",
    "    \n",
    "    ### classification report\n",
    "    cr = classification_report(y_test, pred, target_names = [\"0\", \"1\"])\n",
    "    print(\"Offer {} - classification report:\".format(offer_id))\n",
    "    print(cr)  \n",
    "    \n",
    "    print (\"Offer {}:\".format(offer_id),\n",
    "           \"Accuracy: {} % | F1-score: {} % \\n\\\n",
    "        Recall: {} % | Precision: {} %\".format(accuracy, f1, recall, precision),\"\\n\")\n",
    "    \n",
    "    return clf, accuracy, f1, recall, precision"
   ]
  },
  {
   "cell_type": "code",
   "execution_count": null,
   "metadata": {},
   "outputs": [],
   "source": [
    "%%time\n",
    "\n",
    "### define parameters and classifier\n",
    "parameters = {\"bootstrap\": [True],\n",
    "              \"max_depth\": [2, 6, 10], \n",
    "              \"max_features\": [0.5, 1, 2], \n",
    "              \"min_samples_leaf\": [1, 5], \n",
    "              \"min_samples_split\": [2, 5], \n",
    "              \"n_estimators\": [10, 20]}\n",
    "RF = RandomForestClassifier()\n",
    "clf = GridSearchCV(RF, parameters, scoring = \"roc_auc\", cv = 4, n_jobs = 4, verbose = 2)\n",
    "\n",
    "### train classifier, predict on test set and compute evaluation metrics\n",
    "rf_1, acc_rf_1, f1_rf_1, r_rf_1, p_rf_1 = classifier(clf, 1, X1_train, X1_test, y1_train, y1_test)\n",
    "rf_2, acc_rf_2, f1_rf_2, r_rf_2, p_rf_2 = classifier(clf, 2, X2_train, X2_test, y2_train, y2_test)\n",
    "rf_4, acc_rf_4, f1_rf_4, r_rf_4, p_rf_4 = classifier(clf, 4, X4_train, X4_test, y4_train, y4_test)\n",
    "rf_5, acc_rf_5, f1_rf_5, r_rf_5, p_rf_5 = classifier(clf, 5, X5_train, X5_test, y5_train, y5_test)\n",
    "rf_6, acc_rf_6, f1_rf_6, r_rf_6, p_rf_6 = classifier(clf, 6, X6_train, X6_test, y6_train, y6_test)\n",
    "rf_7, acc_rf_7, f1_rf_7, r_rf_7, p_rf_7 = classifier(clf, 7, X7_train, X7_test, y7_train, y7_test)\n",
    "rf_9, acc_rf_9, f1_rf_9, r_rf_9, p_rf_9 = classifier(clf, 9, X9_train, X9_test, y9_train, y9_test)\n",
    "rf_10, acc_rf_10, f1_rf_10, r_rf_10, p_rf_10 = classifier(clf, 10, X10_train, X10_test, y10_train, y10_test)"
   ]
  },
  {
   "cell_type": "markdown",
   "metadata": {},
   "source": [
    "## Deployment"
   ]
  },
  {
   "cell_type": "code",
   "execution_count": null,
   "metadata": {},
   "outputs": [],
   "source": [
    "### add dummy columns for gender type categories. \n",
    "dummies_gender = pd.get_dummies(customer_data[\"gender\"], columns = [\"gender\"])\n",
    "customer_data = pd.concat([customer_data, dummies_gender.set_index(customer_data.index)], axis = 1)\n",
    "del customer_data[\"gender\"]\n",
    "\n",
    "### convert Dtype from object to datetime64\n",
    "customer_data[\"became_member_on\"] = pd.to_datetime(customer_data[\"became_member_on\"])\n",
    "### convert Dtype from datetime64 to ordinal\n",
    "customer_data[\"became_member_on\"] = customer_data[\"became_member_on\"].map(datetime.datetime.toordinal)\n",
    "\n",
    "### scale features of new customer data\n",
    "def scale_feature(ref_col, scale_col):\n",
    "    \"\"\"\n",
    "    Method for scaling one selected features column on min max values of a reference dataframe (i.e. master)\n",
    "\n",
    "    Args:\n",
    "        ref_df (pd.Series): Series with values whereof min and max values are taken for scaling\n",
    "        scale_df (pd.Series): Series with values of the same category as ref_df to be scaled\n",
    "\n",
    "    Returns:\n",
    "        scaled_values (pd.Series): Series with scaled values\n",
    "    \"\"\"\n",
    "    scaled_values = (scale_col - ref_col.min()) / (ref_col.max() - ref_col.min())\n",
    "\n",
    "    return scaled_values\n",
    "\n",
    "### scale columns age, become_member_on, income_year of new customer data\n",
    "customer_data[\"age\"] = scale_feature(master[\"age\"], customer_data[\"age\"])\n",
    "customer_data[\"became_member_on\"] = scale_feature(master[\"became_member_on\"], customer_data[\"became_member_on\"])\n",
    "customer_data[\"income year (USD)\"] = scale_feature(master[\"income year (USD)\"], customer_data[\"income year (USD)\"])\n"
   ]
  },
  {
   "cell_type": "code",
   "execution_count": null,
   "metadata": {},
   "outputs": [],
   "source": [
    "### create dataframe with new customer data for prediction promomtion success\n",
    "customer_id = [\"customer_01\", \"customer_02\", \"customer_03\", \"customer_04\", \"customer_05\", \n",
    "               \"customer_06\", \"customer_07\", \"customer_08\", \"customer_09\", \"customer_10\"]\n",
    "age = [20, 25, 30, 35, 45, 50, 55, 60, 70, 80 ] # range: 18 - 101\n",
    "became_member_on = [\"2013-07-29\", \"2016-07-29\", \"2018-07-26\", \"2013-07-29\", \"2016-07-29\",\n",
    "                   \"2018-07-26\", \"2013-07-29\", \"2015-07-29\", \"2017-07-29\", \"2017-07-29\"] # range: 2013-07-29 - 2018-07-26\n",
    "income_year = [60000, 40000, 100000, 100000, 70000, 40000, 30000, 80000, 40000, 100000] # range: 30000 - 120000\n",
    "gender = [\"M\", \"F\", \"F\", \"F\", \"O\", \"M\", \"F\", \"F\", \"F\", \"M\"]\n",
    "\n",
    "customer_data = pd.DataFrame(\n",
    "    {\"age\": age,\n",
    "     \"became_member_on\": became_member_on,\n",
    "     \"income year (USD)\": income_year,\n",
    "     \"gender\": gender,\n",
    "     }, index = customer_id)\n",
    "display(customer_data)"
   ]
  },
  {
   "cell_type": "code",
   "execution_count": null,
   "metadata": {},
   "outputs": [],
   "source": [
    "\n",
    "\n",
    "### predict promotion success for new customer data with selected trained classifier\n",
    "pred_offer_1 = rf_1.predict(customer_data)\n",
    "pred_offer_2 = knn_2.predict(customer_data)\n",
    "pred_offer_4 = rf_4.predict(customer_data)\n",
    "pred_offer_5 = dt_5.predict(customer_data)\n",
    "pred_offer_6 = svm_6.predict(customer_data)\n",
    "pred_offer_7 = gnb_7.predict(customer_data)\n",
    "pred_offer_9 = knn_9.predict(customer_data)\n",
    "pred_offer_10 = rf_10.predict(customer_data)\n",
    "\n",
    "### create dataframe\n",
    "pred_offer = pd.DataFrame(\n",
    "    {\"offer_01\": pred_offer_1,\n",
    "     \"offer_02\": pred_offer_2,\n",
    "     \"offer_04\": pred_offer_4,\n",
    "     \"offer_05\": pred_offer_5,\n",
    "     \"offer_06\": pred_offer_6,\n",
    "     \"offer_07\": pred_offer_7,\n",
    "     \"offer_09\": pred_offer_9,\n",
    "     \"offer_10\": pred_offer_10,\n",
    "     }, index = customer_id)\n",
    "\n",
    "pred_offer[\"sum success\"] = pred_offer[[\"offer_01\", \"offer_02\", \"offer_04\", \n",
    "                                        \"offer_05\", \"offer_06\", \"offer_07\", \n",
    "                                        \"offer_09\", \"offer_10\"]].sum(axis=1)\n",
    "\n",
    "display(\"Overview table with promotion success prediction for test customers\", pred_offer)\n",
    "\n"
   ]
  },
  {
   "cell_type": "markdown",
   "metadata": {},
   "source": [
    "\n",
    "# References \n",
    "\n",
    "<ol>\n",
    "    <li>Starbuck Wikipaedia, https://en.wikipedia.org/wiki/Starbucks</li>\n",
    "    <li>Starbuck Company Website, https://www.starbucks.com/about-us/ </li>\n",
    "    <li>https://digital.hbs.edu/platform-digit/submission/starbucks-mobile-app-a-winner-in-bridging-the-retail-digital-divide/ </li>\n",
    "    <li>List of the verified oldest people, <https://en.wikipedia.org/wiki/List_of_the_verified_oldest_people</li>\n",
    "    </ol>"
   ]
  },
  {
   "cell_type": "code",
   "execution_count": null,
   "metadata": {},
   "outputs": [],
   "source": []
  }
 ],
 "metadata": {
  "kernelspec": {
   "display_name": "cuda_env",
   "language": "python",
   "name": "cuda_env"
  },
  "language_info": {
   "codemirror_mode": {
    "name": "ipython",
    "version": 3
   },
   "file_extension": ".py",
   "mimetype": "text/x-python",
   "name": "python",
   "nbconvert_exporter": "python",
   "pygments_lexer": "ipython3",
   "version": "3.9.7"
  }
 },
 "nbformat": 4,
 "nbformat_minor": 2
}
